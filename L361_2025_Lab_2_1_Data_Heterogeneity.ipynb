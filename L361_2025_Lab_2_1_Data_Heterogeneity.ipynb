{
 "cells": [
  {
   "cell_type": "markdown",
   "metadata": {
    "id": "WWD2QvC22_0W"
   },
   "source": [
    "# 0. Marking and Guidelines\n",
    "---\n",
    "***IMPORTANT***\n",
    "\n",
    "> The **attendance** and **active participation** in the **lab sessions** is **strongly recommended** and will be considered for grading.\n",
    ">\n",
    "> Save a copy of this notebook into your Drive before you start\n",
    "> \n",
    "> Please attempt all the **questions** marked for your **group** (Part II ✅ | Part III/MPhil ✅).\n",
    "> \n",
    "> Continue to **\"Part 2\"** after you are done with this **\"Part 1\"**.\n",
    ">\n",
    "> Please, provide your answers in a **new cell below the question cell**. You can make as many new cells as you need.\n",
    "\n",
    "Please submit a `.zip` file, containing both parts, consisting of:\n",
    "1. A text file with a **publicly** visible link to your notebooks in GitHub.\n",
    "2. A **downloaded copy** (`.ipynb`) of your notebooks or your zipped cloned GitHub repo. You may treat these as a report---we will not be re-executing the code you used to produce the answers unless required.\n",
    "\n",
    "\n",
    "Feel free to attempt more in case you find yourself enjoying the material!\n",
    "If you have any questions, please ask them to the teaching assistants.\n",
    "Are you interested in knowing more about federated learning and related topics? Reach out to the teaching assistants for additional resources and ask more about the current research projects."
   ]
  },
  {
   "cell_type": "markdown",
   "metadata": {
    "id": "_RVKTUExooKZ"
   },
   "source": [
    "## 1. Introduction\n",
    "---\n",
    "\n",
    "Welcome to the second lab session in our FL course.\n",
    "We have already explored how to “federate” a centralized ML model.\n",
    "You should now be able to understand who are the main actors in an FL orchestration.\n",
    "\n",
    "In this lab, we will go a step further using all the tools we learned previously.\n",
    "This lab will focus on the behaviour of an FL system under **heterogeneity**.\n",
    "You may know that heterogeneity represents both an intrinsic property and a challenge in a real FL setting.\n",
    "The literature agrees with splitting this property into two main categories.\n",
    "\n",
    "- We will refer to **system heterogeneity** when the clients, or more generally the participants, of the federation, have very different hardware from each other. This may condition clients' availability and participation in FL rounds. _NOTE: the availability of clients could also depend on network conditions that are independent of the device's hardware. This particular heterogeneity will fall in this category as well._ In this lab, we will mostly refer to **data heterogeneity**. This occurs in those settings in which clients' datasets are non-i.i.d. (non-independent and identically distributed), which is the most frequent case. Even if it is quite obvious, it is worth saying that real distributed collections of data are intrinsically non-i.i.d. Thus creating more than a few statistical concerns on the convergence of widely used algorithms which assume i.i.d. samples.\n",
    "\n",
    "_NOTE: for a more comprehensive discussion we suggest reading Sec.3.1 from [Advanced and Open Problems in Federated Learning](https://www.nowpublishers.com/article/Details/MAL-083)._\n"
   ]
  },
  {
   "cell_type": "markdown",
   "metadata": {
    "id": "9b3v_pcscNZW"
   },
   "source": [
    "## 2. An overview of data heterogeneity\n",
    "---\n",
    "\n",
    "Data heterogeneity has been extensively investigated and characterized in statistics and other fields. Here we want to start with a quick overview of the flavours that come to light in FL:\n",
    "\n",
    "- **Feature distribution skew**\n",
    "- **Label distribution skew**\n",
    "- **Quantity skew**\n",
    "- _Same label, different features_\n",
    "- _Same features, different label_\n",
    "- _Violation of Independence_\n",
    "- _Dataset Shift_\n",
    "\n",
    "During this lab we will get into more detail about the first three categories only---those bolded.\n",
    "\n",
    "It is crucial to say that a naturally partitioned dataset, also referred to as a \"real FL dataset”, usually presents a combination of more than one of these properties. This enforces developers to take into account **all of these** during the building of the FL pipeline because in real settings **we cannot see or touch data**. I like to exemplify such a situation using a metaphor: data in FL are like a Schroedinger's cat for which we cannot open the cage. Before looking into the details of these flavours, let's install and load some useful packages.\n"
   ]
  },
  {
   "cell_type": "code",
   "execution_count": null,
   "metadata": {
    "colab": {
     "base_uri": "https://localhost:8080/"
    },
    "id": "Bbc-zZGqJDJB",
    "outputId": "32718d4f-1a1c-4f06-e1d3-79116d532f4c"
   },
   "outputs": [
    {
     "ename": "",
     "evalue": "",
     "output_type": "error",
     "traceback": [
      "\u001b[1;31mRunning cells with '.venv (Python 3.9.21)' requires the ipykernel package.\n",
      "\u001b[1;31mRun the following command to install 'ipykernel' into the Python environment. \n",
      "\u001b[1;31mCommand: '/home/poltor/projects/uni/y3classes/modules/fedlearning/practical_labs/lab2_submission/.venv/bin/python -m pip install ipykernel -U --force-reinstall'"
     ]
    }
   ],
   "source": [
    "# `pip` could produce some errors. Do not worry about them.\n",
    "# The execution has been verified; it's working anyway.\n",
    "! pip install --quiet --upgrade \"pip\"\n",
    "! pip install --quiet matplotlib tqdm seaborn\n",
    "! pip install git+https://github.com/Iacob-Alexandru-Andrei/flower.git@teaching \\\n",
    "    torch torchvision ray==\"2.6.3\"\n",
    "# The following is just needed to show the folder tree\n",
    "! apt-get install -qq tree"
   ]
  },
  {
   "cell_type": "code",
   "execution_count": null,
   "metadata": {},
   "outputs": [],
   "source": [
    "# !wget https://github.com/ray-project/ray/archive/refs/tags/ray-2.6.3.zip\n",
    "# !unzip ray-2.6.3.zip\n",
    "# !cd ray-ray-2.6.3\n",
    "# !pip install -r python/requirements.txt\n",
    "# !pip install ."
   ]
  },
  {
   "cell_type": "code",
   "execution_count": null,
   "metadata": {},
   "outputs": [],
   "source": [
    "# # download the `labs` folder from github\n",
    "# !wget https://github.com/camlsys/L361-Federated-Learning/archive/release.zip\n",
    "# !unzip release.zip\n",
    "# !cp L361-Federated-Learning-release/labs . -r"
   ]
  },
  {
   "cell_type": "code",
   "execution_count": null,
   "metadata": {},
   "outputs": [
    {
     "name": "stderr",
     "output_type": "stream",
     "text": [
      "/home/poltor/miniconda3/envs/fedlearning/lib/python3.13/pty.py:95: DeprecationWarning: This process (pid=54245) is multi-threaded, use of forkpty() may lead to deadlocks in the child.\n",
      "  pid, fd = os.forkpty()\n"
     ]
    }
   ],
   "source": [
    "# !mv labs/common/ common/\n",
    "# !rm -rf labs/"
   ]
  },
  {
   "cell_type": "code",
   "execution_count": 1,
   "metadata": {
    "id": "99aC-H3gr5ey"
   },
   "outputs": [
    {
     "name": "stderr",
     "output_type": "stream",
     "text": [
      "/home/poltor/projects/uni/y3classes/modules/fedlearning/practical_labs/lab2_submission/.venv/lib/python3.10/site-packages/tqdm/auto.py:21: TqdmWarning: IProgress not found. Please update jupyter and ipywidgets. See https://ipywidgets.readthedocs.io/en/stable/user_install.html\n",
      "  from .autonotebook import tqdm as notebook_tqdm\n",
      "2025-02-15 19:28:05,427\tINFO util.py:154 -- Missing packages: ['ipywidgets']. Run `pip install -U ipywidgets`, then restart the notebook server for rich notebook output.\n"
     ]
    }
   ],
   "source": [
    "import sys\n",
    "import shutil\n",
    "import random\n",
    "import tarfile\n",
    "from collections.abc import Callable\n",
    "from copy import deepcopy\n",
    "from pathlib import Path\n",
    "from typing import Any, ClassVar\n",
    "from types import MethodType\n",
    "from logging import INFO\n",
    "\n",
    "import flwr as fl\n",
    "import matplotlib.pyplot as plt\n",
    "import numpy as np\n",
    "\n",
    "\n",
    "import seaborn as sns\n",
    "import pandas as pd\n",
    "import torch\n",
    "from torch import nn\n",
    "from flwr.common.parameter import ndarrays_to_parameters\n",
    "from flwr.common.typing import NDArrays, Parameters, Scalar\n",
    "from flwr.common.logger import log\n",
    "from flwr.server import ServerConfig, History\n",
    "from flwr.server.strategy import FedAvg, Strategy\n",
    "from torch.nn import Module\n",
    "from torch.utils.data import DataLoader, Dataset\n",
    "from torchvision import transforms\n",
    "from tqdm import tqdm\n",
    "from enum import IntEnum\n",
    "from flwr.client import Client\n",
    "from flwr.server.client_proxy import ClientProxy\n",
    "from flwr.common import FitRes, parameters_to_ndarrays\n",
    "\n",
    "from common.femnist_dataset import FEMNIST\n",
    "from common.client_utils import (\n",
    "    to_tensor_transform,\n",
    "    get_network_generator_mlp,\n",
    "    get_network_generator_cnn,\n",
    "    get_model_parameters,\n",
    "    get_federated_evaluation_function,\n",
    "    aggregate_weighted_average,\n",
    "    get_device,\n",
    "    save_history,\n",
    ")\n",
    "from common.lda_utils import create_lda_partitions\n",
    "from common.client import FlowerClient, get_flower_client_generator\n",
    "\n",
    "\n",
    "# Add new seeds here for easy autocomplete\n",
    "class Seeds(IntEnum):\n",
    "    \"\"\"Seeds for reproducibility.\"\"\"\n",
    "\n",
    "    DEFAULT = 1337\n",
    "\n",
    "\n",
    "def fit_client_seeded(\n",
    "    client: FlowerClient,\n",
    "    params: NDArrays,\n",
    "    conf: dict[str, Any],\n",
    "    seed: Seeds = Seeds.DEFAULT,\n",
    "    **kwargs: Any,\n",
    ") -> tuple[NDArrays, int, dict]:\n",
    "    \"\"\"Wrap to always seed client training.\"\"\"\n",
    "    np.random.seed(seed)\n",
    "    torch.manual_seed(seed)\n",
    "    random.seed(seed)\n",
    "    return client.fit(params, conf, **kwargs)\n",
    "\n",
    "\n",
    "np.random.seed(Seeds.DEFAULT)\n",
    "random.seed(Seeds.DEFAULT)\n",
    "torch.manual_seed(Seeds.DEFAULT)\n",
    "torch.backends.cudnn.benchmark = False\n",
    "torch.backends.cudnn.deterministic = True\n",
    "\n",
    "PathType = Path | str | None"
   ]
  },
  {
   "cell_type": "markdown",
   "metadata": {
    "id": "smKbgZnrJGsX"
   },
   "source": [
    "Another important ingredient, necessary to analyse heterogeneity, is a labelled dataset. We will use FEMNIST since we are all familiar with it now. We will initially load the same version of the dataset used in the previous lab, then we will start creating partitions at will.\n"
   ]
  },
  {
   "cell_type": "code",
   "execution_count": 5,
   "metadata": {
    "id": "2hQhnTM0JU9y"
   },
   "outputs": [],
   "source": [
    "home_dir = Path.cwd()\n",
    "dataset_dir: Path = home_dir / \"femnist\"\n",
    "data_dir: Path = dataset_dir / \"data\"\n",
    "centralized_partition: Path = dataset_dir / \"client_data_mappings\" / \"centralized\"\n",
    "centralized_mapping: Path = dataset_dir / \"client_data_mappings\" / \"centralized\" / \"0\"\n",
    "federated_partition: Path = dataset_dir / \"client_data_mappings\" / \"fed_natural\""
   ]
  },
  {
   "cell_type": "code",
   "execution_count": 6,
   "metadata": {},
   "outputs": [],
   "source": [
    "def start_seeded_simulation(\n",
    "    client_fn: Callable[[str], Client],\n",
    "    num_clients: int,\n",
    "    config: ServerConfig,\n",
    "    strategy: Strategy,\n",
    "    name: str,\n",
    "    seed: int = Seeds.DEFAULT,\n",
    "    iteration: int = 0,\n",
    ") -> tuple[list[tuple[int, NDArrays]], History]:\n",
    "    \"\"\"Wrap simulation to always seed client selection.\"\"\"\n",
    "    np.random.seed(seed ^ iteration)\n",
    "    torch.manual_seed(seed ^ iteration)\n",
    "    random.seed(seed ^ iteration)\n",
    "    parameter_list, hist = fl.simulation.start_simulation_no_ray(\n",
    "        client_fn=client_fn,\n",
    "        num_clients=num_clients,\n",
    "        client_resources={},\n",
    "        config=config,\n",
    "        strategy=strategy,\n",
    "    )\n",
    "    save_history(home_dir, hist, name)\n",
    "    return parameter_list, hist"
   ]
  },
  {
   "cell_type": "code",
   "execution_count": 7,
   "metadata": {
    "id": "twoHcMsJ4n8T"
   },
   "outputs": [],
   "source": [
    "# Decompress dataset\n",
    "if not dataset_dir.exists():\n",
    "    # print(\"no dataset!\")\n",
    "    with tarfile.open(home_dir / \"femnist.tar.gz\", \"r:gz\") as tar:\n",
    "        tar.extractall(path=home_dir)\n",
    "    log(INFO, \"Dataset extracted in %s\", dataset_dir)"
   ]
  },
  {
   "cell_type": "markdown",
   "metadata": {
    "id": "6EVPpFjuwoBm"
   },
   "source": [
    "We also need the dataset object. We will use the same as in the previous lab.\n"
   ]
  },
  {
   "cell_type": "markdown",
   "metadata": {
    "id": "cLx7-YaNud_e"
   },
   "source": [
    "### 2.1 Feature distribution skew\n",
    "---\n",
    "\n",
    "Statisticians and data scientists refer to this property as \"covariate shift”. It happens when different clients present samples which describe ideally the same objects having slightly different features. That is the case for two different writers hand-writing the same word, since these may have different stroke widths, slants, etc.\n",
    "What happens to an FL setting in which this property is strong is not always predictable. Ideally, the global model, obtained using FedAvg, will try to learn a shared representation between clients. This could be problematic since clients have different features to represent their data. We could simply expect that the same seed model trained separately on local clients may perform better than a global model obtained in an FL training.\n",
    "\n",
    "To see this property in our chosen dataset we will show two images for the same number taken from different clients.\n",
    "_NOTE: the choice of clients and samples in the following is not random, but suitably made to show you the property._\n"
   ]
  },
  {
   "cell_type": "code",
   "execution_count": 7,
   "metadata": {
    "colab": {
     "base_uri": "https://localhost:8080/",
     "height": 253
    },
    "id": "GQSu0BsBw_tO",
    "outputId": "ca9a8035-55f7-4112-af63-210f7c5bec35"
   },
   "outputs": [
    {
     "name": "stderr",
     "output_type": "stream",
     "text": [
      "INFO flwr 2025-02-15 19:29:01,452 | 2179019995.py:10 | For client 0, sample 4 has label 24\n",
      "INFO flwr 2025-02-15 19:29:01,453 | 2179019995.py:11 | For client 1000, sample 0 has label 24\n"
     ]
    },
    {
     "data": {
      "text/plain": [
       "<matplotlib.image.AxesImage at 0x7ddecbde3910>"
      ]
     },
     "execution_count": 7,
     "metadata": {},
     "output_type": "execute_result"
    },
    {
     "data": {
      "image/png": "[encoded data removed]",
      "text/plain": [
       "<Figure size 640x480 with 2 Axes>"
      ]
     },
     "metadata": {},
     "output_type": "display_data"
    }
   ],
   "source": [
    "client_0_dataset: FEMNIST = FEMNIST(\n",
    "    mapping=federated_partition / \"0\", data_dir=data_dir, name=\"train\"\n",
    ")\n",
    "client_1000_dataset: FEMNIST = FEMNIST(\n",
    "    mapping=federated_partition / \"1000\", data_dir=data_dir, name=\"train\"\n",
    ")\n",
    "img_a, label_a = client_0_dataset[4]\n",
    "img_b, label_b = client_1000_dataset[0]\n",
    "\n",
    "log(INFO, f\"For client 0, sample 4 has label {label_a}\")\n",
    "log(INFO, f\"For client 1000, sample 0 has label {label_b}\")\n",
    "# display images\n",
    "fig, ax = plt.subplots(1, 2)\n",
    "ax[0].imshow(img_a)\n",
    "ax[1].imshow(img_b)"
   ]
  },
  {
   "cell_type": "markdown",
   "metadata": {
    "id": "o8BULdP73HYV"
   },
   "source": [
    "We can also compare the average values of all the features for all the samples of these clients having the label chosen. You can try to execute the cell below choosing different labels.\n"
   ]
  },
  {
   "cell_type": "code",
   "execution_count": 8,
   "metadata": {
    "colab": {
     "base_uri": "https://localhost:8080/",
     "height": 218
    },
    "id": "9xS7S-xk07dQ",
    "outputId": "f42a7c53-d12b-4c7c-8867-c7b99dceb976"
   },
   "outputs": [
    {
     "data": {
      "text/plain": [
       "<matplotlib.image.AxesImage at 0x7ddecbbd38e0>"
      ]
     },
     "execution_count": 8,
     "metadata": {},
     "output_type": "execute_result"
    },
    {
     "data": {
      "image/png": "[encoded data removed]",
      "text/plain": [
       "<Figure size 640x480 with 2 Axes>"
      ]
     },
     "metadata": {},
     "output_type": "display_data"
    }
   ],
   "source": [
    "label_chosen = 4\n",
    "features_0 = []\n",
    "for img, lbl in client_0_dataset:\n",
    "    if lbl == label_chosen:\n",
    "        features_0.append(np.asarray(img).flatten())\n",
    "\n",
    "features_1000 = []\n",
    "for img, lbl in client_1000_dataset:\n",
    "    if lbl == label_chosen:\n",
    "        features_1000.append(np.asarray(img).flatten())\n",
    "\n",
    "# display images\n",
    "fig, ax = plt.subplots(1, 2)\n",
    "ax[0].imshow((np.sum(features_0, axis=0) / len(features_0)).reshape((28, 28)))\n",
    "ax[1].imshow((np.sum(features_1000, axis=0) / len(features_1000)).reshape((28, 28)))"
   ]
  },
  {
   "cell_type": "code",
   "execution_count": 19,
   "metadata": {
    "colab": {
     "base_uri": "https://localhost:8080/",
     "height": 218
    },
    "id": "KbPKX2SuWFcr",
    "outputId": "3edbabad-0e98-4f6e-9e6a-4e68536a5984"
   },
   "outputs": [
    {
     "data": {
      "text/plain": [
       "<matplotlib.image.AxesImage at 0x7ddec929b310>"
      ]
     },
     "execution_count": 19,
     "metadata": {},
     "output_type": "execute_result"
    },
    {
     "data": {
      "image/png": "[encoded data removed]",
      "text/plain": [
       "<Figure size 640x480 with 2 Axes>"
      ]
     },
     "metadata": {},
     "output_type": "display_data"
    }
   ],
   "source": [
    "label_chosen = 11\n",
    "features_0 = []\n",
    "for img, lbl in client_0_dataset:\n",
    "    if lbl == label_chosen:\n",
    "        features_0.append(np.asarray(img).flatten())\n",
    "\n",
    "features_1000 = []\n",
    "for img, lbl in client_1000_dataset:\n",
    "    if lbl == label_chosen:\n",
    "        features_1000.append(np.asarray(img).flatten())\n",
    "\n",
    "# display images\n",
    "fig, ax = plt.subplots(1, 2)\n",
    "ax[0].imshow((np.sum(features_0, axis=0) / len(features_0)).reshape((28, 28)))\n",
    "ax[1].imshow((np.sum(features_1000, axis=0) / len(features_1000)).reshape((28, 28)))"
   ]
  },
  {
   "cell_type": "markdown",
   "metadata": {
    "id": "F_hZ8ZKqAwsY"
   },
   "source": [
    "It is worth having a glance on what are the consequences of this property on an FL experiment. To do that we will re-use the code for training an FL client from the previous lab.\n",
    "\n",
    "In order to show on a small scale what can happen to FL training setups where clients have feature distribution skew, we will now build two toy settings. We choose the most populated client---the one with the most samples in the federation. We will then construct a second version of this same client by artificially changing its features by inverting the underlying images--- transforming each image into its negative. Furthermore, we need a specific `get_flower_client_generator` able to invert the images of a specific client.\n",
    "\n",
    "In the following, we provide the relevant methods to do that. These methods are simplified taking advantage of the federation being composed of just two clients.\n"
   ]
  },
  {
   "cell_type": "code",
   "execution_count": 20,
   "metadata": {
    "id": "Y420LYKH_8BL"
   },
   "outputs": [],
   "source": [
    "def load_femnist_inverted_dataset(mapping: Path, name: str) -> Dataset:\n",
    "    \"\"\"Load the filtered FEMNIST dataset given the mapping .csv file.\n",
    "\n",
    "    The relevant transforms are automatically applied.\n",
    "    Note that the last transform will invert images, getting their negative\n",
    "    representation.\n",
    "\n",
    "    Parameters\n",
    "    ----------\n",
    "        mapping (Path): path to the mapping .csv file chosen.\n",
    "        name (str): name of the dataset to load, train or test.\n",
    "\n",
    "    Returns\n",
    "    -------\n",
    "        Dataset: FEMNIST dataset object, ready to use.\n",
    "    \"\"\"\n",
    "    transform = transforms.Compose([\n",
    "        transforms.ToTensor(),\n",
    "        transforms.transforms.F.invert,\n",
    "    ])\n",
    "\n",
    "    return FEMNIST(\n",
    "        mapping=mapping,\n",
    "        name=name,\n",
    "        data_dir=data_dir,\n",
    "        transform=transform,\n",
    "        target_transform=to_tensor_transform,\n",
    "    )\n",
    "\n",
    "\n",
    "# NOTE: We need the self to use this for replacing an internal of a class\n",
    "def _load_inverted_dataset(self: FlowerClient, name: str) -> Dataset:\n",
    "    \"\"\"\n",
    "    Load an inverted dataset for a specific client.\n",
    "\n",
    "    This function loads the FEMNIST inverted dataset for the client identified by\n",
    "    `self.cid`. The dataset is loaded from the partition directory specified by\n",
    "    `self.partition_dir`.\n",
    "\n",
    "    Parameters\n",
    "    ----------\n",
    "        name (str): The name of the dataset to load.\n",
    "\n",
    "    Returns\n",
    "    -------\n",
    "        Dataset: The loaded inverted dataset.\n",
    "\n",
    "    Raises\n",
    "    ------\n",
    "        FileNotFoundError: If the dataset file does not exist.\n",
    "    \"\"\"\n",
    "    full_file: Path = self.partition_dir / str(self.cid)\n",
    "    return load_femnist_inverted_dataset(mapping=full_file, name=name)\n",
    "\n",
    "\n",
    "def get_mod_flower_client_generator(\n",
    "    model_generator: Callable[[], Module],\n",
    "    data_dir: Path,\n",
    "    partition_dir: Path,\n",
    "    mapping_fn: Callable[[int], int] | None = None,\n",
    ") -> Callable[[str], FlowerClient]:\n",
    "    \"\"\"Wrap the function for the client instance generator.\n",
    "\n",
    "    This provides the client generator with a model generator function.\n",
    "    Also, the partition directory must be passed.\n",
    "    A mapping function could be used for filtering/ordering clients.\n",
    "    Note that the \"even\" clients here will have a modified `_load_dataset` function.\n",
    "    The new `_load_dataset` has been chosen to be the one inverting the images.\n",
    "\n",
    "    Parameters\n",
    "    ----------\n",
    "        data_dir (Path): path to the dataset folder.\n",
    "        model_generator (Callable[[], Module]): model generator function.\n",
    "        partition_dir (Path): directory containing the partition.\n",
    "        mapping_fn (Optional[Callable[[int], int]]): function mapping sorted/filtered\n",
    "            ids to real cid.\n",
    "\n",
    "    Returns\n",
    "    -------\n",
    "        Callable[[str], FlowerClient]: client instance.\n",
    "    \"\"\"\n",
    "\n",
    "    def client_fn(cid: str) -> FlowerClient:\n",
    "        \"\"\"Create a single client instance given the client id `cid`.\n",
    "\n",
    "        Parameters\n",
    "        ----------\n",
    "            cid (str): client id, Flower requires this to of type str.\n",
    "\n",
    "        Returns\n",
    "        -------\n",
    "            FlowerClient: client instance.\n",
    "        \"\"\"\n",
    "        log(INFO, f\"Getting client with id {cid}\")\n",
    "        actual_cid = mapping_fn(int(cid)) if mapping_fn is not None else int(cid)\n",
    "        client = FlowerClient(\n",
    "            cid=actual_cid,\n",
    "            data_dir=data_dir,\n",
    "            partition_dir=partition_dir,\n",
    "            model_generator=model_generator,\n",
    "        )\n",
    "        # Pay attention to the following two lines\n",
    "        if int(cid) % 2 == 0:\n",
    "            client._load_dataset = MethodType(_load_inverted_dataset, client)\n",
    "        return client\n",
    "\n",
    "    return client_fn"
   ]
  },
  {
   "cell_type": "markdown",
   "metadata": {
    "id": "V6-ipEzaY8QY"
   },
   "source": [
    "We will now try to train separately the two clients generated this way. The mapping function will be provided to point both client IDs to the data of the most populated client.\n",
    "\n",
    "```python\n",
    "mapping_dict = {0: '178', 1: '178'}\n",
    "```\n",
    "\n",
    "_NOTE: you may want *to experiment \\_with \\_different\\_\\_ clients here*. After having completed the lab, feel free to try!_\n",
    "\n",
    "The following cell will set the relevant configuration for both training and testing of the client and its inverted version.\n",
    "\n",
    "> **IMPORTANT: The architecture used here is an MLP because it is affected by inversion of images. Also, note that we must seed the model parameters here.**\n"
   ]
  },
  {
   "cell_type": "code",
   "execution_count": 21,
   "metadata": {
    "id": "8_ZCNLJRZoah"
   },
   "outputs": [],
   "source": [
    "# Seed the model\n",
    "torch.manual_seed(Seeds.DEFAULT)\n",
    "network_generator_mlp = get_network_generator_mlp()\n",
    "seed_net_mlp = network_generator_mlp()\n",
    "seed_model_mlp_params: NDArrays = get_model_parameters(seed_net_mlp)\n",
    "# Set up config for both train and eval\n",
    "train_config: dict[str, Any] = {\n",
    "    \"epochs\": 8,\n",
    "    \"batch_size\": 32,\n",
    "    \"client_learning_rate\": 0.01,\n",
    "    \"weight_decay\": 0.001,\n",
    "    \"num_workers\": 0,\n",
    "    \"max_batches\": None,\n",
    "}\n",
    "test_config: dict[str, Any] = {\n",
    "    \"batch_size\": 32,\n",
    "    \"num_workers\": 0,\n",
    "    \"max_batches\": None,\n",
    "}\n",
    "# Here is the mapping\n",
    "mapping_dict = {0: \"178\", 1: \"178\"}\n",
    "# NOTE: we are using here the `get_mod_flower_client_generator`\n",
    "federated_mod_flower_client_generator: Callable[[str], FlowerClient] = (\n",
    "    get_mod_flower_client_generator(\n",
    "        model_generator=network_generator_mlp,\n",
    "        data_dir=data_dir,\n",
    "        partition_dir=federated_partition,\n",
    "        mapping_fn=lambda x: int(mapping_dict[x]),\n",
    "    )\n",
    ")\n",
    "# NOTE: we are using here the `get_flower_client_generator`\n",
    "federated_flower_client_generator: Callable[[str], FlowerClient] = (\n",
    "    get_flower_client_generator(\n",
    "        model_generator=network_generator_mlp,\n",
    "        data_dir=data_dir,\n",
    "        partition_dir=federated_partition,\n",
    "        mapping_fn=lambda x: int(mapping_dict[x]),\n",
    "    )\n",
    ")"
   ]
  },
  {
   "cell_type": "markdown",
   "metadata": {
    "id": "zLqrKFqtaIYh"
   },
   "source": [
    "Let's train separately the two versions of the client and then mutually evaluate their models.\n"
   ]
  },
  {
   "cell_type": "code",
   "execution_count": 22,
   "metadata": {
    "colab": {
     "base_uri": "https://localhost:8080/"
    },
    "id": "fWYktaFiaH3d",
    "outputId": "11cf6d6e-c24c-4850-f0d4-0541da501e72"
   },
   "outputs": [
    {
     "name": "stderr",
     "output_type": "stream",
     "text": [
      "INFO flwr 2025-02-15 19:31:45,156 | 3847737467.py:94 | Getting client with id 0\n",
      "INFO flwr 2025-02-15 19:31:45,160 | client.py:51 | Creating client with cid: 178\n",
      "INFO flwr 2025-02-15 19:31:45,162 | 3847737467.py:94 | Getting client with id 1\n",
      "INFO flwr 2025-02-15 19:31:45,164 | client.py:51 | Creating client with cid: 178\n",
      "INFO flwr 2025-02-15 19:31:47,814 | 1832891730.py:8 | Results of fitting the seed model on client 0:\n",
      "\t[13, {'train_loss': 0.012041637279952947}]\n",
      "100%|██████████| 2/2 [00:00<00:00, 32.34it/s]\n",
      "INFO flwr 2025-02-15 19:31:47,895 | 1832891730.py:11 | Results of model eval trained on client 0 on the test set of client 0:\n",
      "\t(3.58995521068573, 2, {'local_accuracy': 0.7446808510638298})\n",
      "INFO flwr 2025-02-15 19:31:49,870 | 1832891730.py:20 | Results of fitting the seed model on client 1:\n",
      "\t[13, {'train_loss': 0.10809686378790782}]\n",
      "100%|██████████| 2/2 [00:00<00:00, 55.18it/s]\n",
      "INFO flwr 2025-02-15 19:31:49,930 | 1832891730.py:23 | Results of model eval trained on client 1 on the test set of client 1:\n",
      "\t(7.177372455596924, 2, {'local_accuracy': 0.2127659574468085})\n",
      "100%|██████████| 2/2 [00:00<00:00, 48.67it/s]\n",
      "INFO flwr 2025-02-15 19:31:49,996 | 1832891730.py:30 | Results of model eval trained on client 1 on the test set of client 0:\n",
      "\t(8.351927757263184, 2, {'local_accuracy': 0.06382978723404255})\n",
      "100%|██████████| 2/2 [00:00<00:00, 137.04it/s]\n",
      "INFO flwr 2025-02-15 19:31:50,023 | 1832891730.py:37 | Results of model eval trained on client 0 on the test set of client 1:\n",
      "\t(176.34027099609375, 2, {'local_accuracy': 0.02127659574468085})\n"
     ]
    }
   ],
   "source": [
    "# Create clients\n",
    "client_0 = federated_mod_flower_client_generator(str(0))\n",
    "client_1 = federated_mod_flower_client_generator(str(1))\n",
    "# Fit client 0\n",
    "client_0_params, *rest = fit_client_seeded(\n",
    "    client_0, seed_model_mlp_params, train_config\n",
    ")\n",
    "log(INFO, f\"Results of fitting the seed model on client 0:\\n\\t{rest}\")\n",
    "# Evaluate client 0 on model trained on client 0\n",
    "client_0_res = client_0.evaluate(client_0_params, test_config)\n",
    "log(\n",
    "    INFO,\n",
    "    \"Results of model eval trained on client 0 on the test set of client 0:\\n\\t%s\",\n",
    "    client_0_res,\n",
    ")\n",
    "# Fit client 1\n",
    "client_1_params, *rest = fit_client_seeded(\n",
    "    client_1, seed_model_mlp_params, train_config\n",
    ")\n",
    "log(INFO, f\"Results of fitting the seed model on client 1:\\n\\t{rest}\")\n",
    "# Evaluate client 1 on model trained on client 1\n",
    "client_1_res = client_1.evaluate(client_1_params, test_config)\n",
    "log(\n",
    "    INFO,\n",
    "    \"Results of model eval trained on client 1 on the test set of client 1:\\n\\t%s\",\n",
    "    client_1_res,\n",
    ")\n",
    "# Evaluate client 0 on model trained on client 0\n",
    "client_0_res = client_0.evaluate(client_1_params, test_config)\n",
    "log(\n",
    "    INFO,\n",
    "    \"Results of model eval trained on client 1 on the test set of client 0:\\n\\t%s\",\n",
    "    client_0_res,\n",
    ")\n",
    "# Evaluate client 1 on model trained on client 1\n",
    "client_1_res = client_1.evaluate(client_0_params, test_config)\n",
    "log(\n",
    "    INFO,\n",
    "    \"Results of model eval trained on client 0 on the test set of client 1:\\n\\t%s\",\n",
    "    client_1_res,\n",
    ")"
   ]
  },
  {
   "cell_type": "markdown",
   "metadata": {
    "id": "T2I9CswibRCb"
   },
   "source": [
    "In the following cell, we will set up all the relevant methods and parameters to run an FL simulation.\n"
   ]
  },
  {
   "cell_type": "code",
   "execution_count": 23,
   "metadata": {
    "id": "9pEHYQedk8xW"
   },
   "outputs": [],
   "source": [
    "def _on_fit_config_fn(server_round: int) -> dict[str, Scalar]:\n",
    "    \"\"\"\n",
    "    Generate the training configuration for a given server round.\n",
    "\n",
    "    This function updates the global training configuration with the current server\n",
    "    round and returns the updated configuration.\n",
    "\n",
    "    Parameters\n",
    "    ----------\n",
    "    server_round : int\n",
    "        The current round of training on the server.\n",
    "\n",
    "    Returns\n",
    "    -------\n",
    "    dict[str, Scalar]\n",
    "        The updated training configuration dictionary.\n",
    "    \"\"\"\n",
    "    train_config.update({\"server_round\": server_round})\n",
    "    return train_config\n",
    "\n",
    "\n",
    "def _on_evaluate_config_fn(server_round: int) -> dict[str, Scalar]:\n",
    "    \"\"\"\n",
    "    Generate the evaluation configuration for a given server round.\n",
    "\n",
    "    This function updates the global evaluation configuration with the current server\n",
    "    round and returns the updated configuration.\n",
    "\n",
    "    Parameters\n",
    "    ----------\n",
    "    server_round : int\n",
    "        The current round of evaluation on the server.\n",
    "\n",
    "    Returns\n",
    "    -------\n",
    "    dict[str, Scalar]\n",
    "        The updated evaluation configuration dictionary.\n",
    "    \"\"\"\n",
    "    test_config.update({\"server_round\": server_round})\n",
    "    return test_config\n",
    "\n",
    "\n",
    "# NOTE: We don't need the `federated_evaluation_function`. We care about the\n",
    "# distributed accuracy, thus we skip centralised evaluation.\n",
    "strategy = FedAvg(\n",
    "    fraction_fit=sys.float_info.min,\n",
    "    fraction_evaluate=sys.float_info.min,\n",
    "    min_fit_clients=2,\n",
    "    min_evaluate_clients=2,\n",
    "    min_available_clients=2,\n",
    "    on_fit_config_fn=_on_fit_config_fn,\n",
    "    on_evaluate_config_fn=_on_evaluate_config_fn,\n",
    "    initial_parameters=ndarrays_to_parameters(seed_model_mlp_params),\n",
    "    accept_failures=False,\n",
    "    fit_metrics_aggregation_fn=aggregate_weighted_average,\n",
    "    evaluate_metrics_aggregation_fn=aggregate_weighted_average,\n",
    ")"
   ]
  },
  {
   "cell_type": "markdown",
   "metadata": {
    "id": "0mTgAc5yYVny"
   },
   "source": [
    "### 2.2 Label distribution skew\n",
    "---"
   ]
  },
  {
   "cell_type": "markdown",
   "metadata": {
    "id": "IE6yFy4sH79L"
   },
   "source": [
    "The flavour of data heterogeneity we are dealing with in this subsection is often called “prior probability shift\". In a few words, this occurs when, given a particular label, the distribution of samples having that label differs from client to client. In our running example, we can see whether in FEMNIST happens that different clients have drawn different distributions of symbols.\n",
    "We can think about what could happen to an FL training in this situation simplifying a bit the actors in a play. Let's imagine that the federation has a subset of clients (one client: client 0) that is the only one having a specific subset of labels (say letters). A global model trained using FedAvg on that federation won't ever be able to learn well the representation of that subset of labels (letters). There exist methods to mitigate this particular situation, but often they involve sharing statistics about local datasets, thus creating privacy concerns.\n",
    "\n",
    "We will select two clients, then we will plot the histogram of the labels for each of them on the same canvas. Thus, we will be able to evaluate whether there is a qualitative difference between the two.\n"
   ]
  },
  {
   "cell_type": "code",
   "execution_count": 24,
   "metadata": {
    "colab": {
     "base_uri": "https://localhost:8080/",
     "height": 282
    },
    "id": "CobK_i5-cwxI",
    "outputId": "876d5ead-de3b-4012-8e3f-810691e1c944"
   },
   "outputs": [
    {
     "data": {
      "text/plain": [
       "<matplotlib.legend.Legend at 0x7ddec930f0a0>"
      ]
     },
     "execution_count": 24,
     "metadata": {},
     "output_type": "execute_result"
    },
    {
     "data": {
      "image/png": "[encoded data removed]",
      "text/plain": [
       "<Figure size 640x480 with 1 Axes>"
      ]
     },
     "metadata": {},
     "output_type": "display_data"
    }
   ],
   "source": [
    "client_3000_dataset: FEMNIST = FEMNIST(\n",
    "    mapping=federated_partition / \"3000\", data_dir=data_dir, name=\"train\"\n",
    ")\n",
    "plt.hist(\n",
    "    [int(x[1]) for x in client_0_dataset],\n",
    "    bins=62,\n",
    "    color=\"blue\",\n",
    "    alpha=0.7,\n",
    "    label=\"client 0\",\n",
    ")\n",
    "plt.hist(\n",
    "    [int(x[1]) for x in client_3000_dataset],\n",
    "    bins=62,\n",
    "    color=\"orange\",\n",
    "    alpha=0.7,\n",
    "    label=\"client 3000\",\n",
    ")\n",
    "plt.legend()"
   ]
  },
  {
   "cell_type": "markdown",
   "metadata": {
    "id": "3ekusyXpeLy3"
   },
   "source": [
    "---\n",
    "\n",
    "**Question 1 (Part II ✅ | Part III/MPhil ✅):**\n",
    "\n",
    "(These are meant to be conceptual questions. You should provide written answers for these. **No more than 3 sentences each**. **No code** is needed)\n",
    "\n",
    "If we ignore the privacy assumptions of FL and allow the overall label distribution to be known, how could we balance the set of selected clients to guide the federated model towards a similar per-class accuracy that the centralised model can achieve? Assume FedAvg and the usual client implementation in your reasoning.\n",
    "\n",
    "We could prioritise clients that has a distribution which resembles the centralised dataset, provided we know what that is. Alternatively, we could prioritise a more spread-out distribution across all the different classes (0 over 3000 in the above example). We could also try to select clients in such a way that their combined dataset each round contains a distribution of training examples that closely resemble the centralised dataset. \n",
    "\n",
    "\n",
    "---\n"
   ]
  },
  {
   "cell_type": "markdown",
   "metadata": {
    "id": "ZR7M2rpHJ5kO"
   },
   "source": [
    "### 2.3 Quantity skew\n",
    "---"
   ]
  },
  {
   "cell_type": "markdown",
   "metadata": {
    "id": "amXbWzGcIACk"
   },
   "source": [
    "The last kind of heterogeneity we will discuss in detail is the _quantity skew_, which occurs when clients possess different numbers of samples. Last, but not least, it is the most investigated property that real FL datasets have. Also called \"imbalancedness\", it has been tackled using many techniques spanning from data manipulation to optimization algorithm design. Even if the literature regarding such techniques is quite broad, relative to FL being a new topic of research, there is still not any agreement about how to deal with imbalancedness. Often different solutions have different accuracy depending on the task and how imbalanced the FL dataset is.\n",
    "\n",
    "Those of you that have well-trained observation skills may recall a plot in the last lab that spoiled this property. Now we'll try to get the global view of FEMNIST data from this perspective.\n"
   ]
  },
  {
   "cell_type": "code",
   "execution_count": 26,
   "metadata": {
    "colab": {
     "base_uri": "https://localhost:8080/",
     "height": 279
    },
    "id": "T-bzX0KvhZ5z",
    "outputId": "c4a7ee39-f56f-4db7-c9e3-ea89c905e7d6"
   },
   "outputs": [
    {
     "name": "stderr",
     "output_type": "stream",
     "text": [
      "/tmp/ipykernel_86473/2496043336.py:1: UserWarning: Ignoring `palette` because no `hue` variable has been assigned.\n",
      "  sns.histplot(\n"
     ]
    },
    {
     "data": {
      "image/png": "[encoded data removed]",
      "text/plain": [
       "<Figure size 640x480 with 1 Axes>"
      ]
     },
     "metadata": {},
     "output_type": "display_data"
    }
   ],
   "source": [
    "sns.histplot(\n",
    "    alpha=0.15,\n",
    "    legend=True,\n",
    "    data=[\n",
    "        len(\n",
    "            FEMNIST(\n",
    "                mapping=federated_partition / str(i), data_dir=data_dir, name=\"train\"\n",
    "            )\n",
    "        )\n",
    "        for i in range(3229)\n",
    "    ],\n",
    "    fill=True,\n",
    "    kde=True,\n",
    "    element=\"step\",\n",
    "    stat=\"density\",\n",
    "    common_norm=False,\n",
    "    common_bins=True,\n",
    "    cbar=True,\n",
    "    palette=\"dark\",\n",
    ")\n",
    "plt.xlabel(\"# samples\")\n",
    "plt.show()"
   ]
  },
  {
   "cell_type": "markdown",
   "metadata": {
    "id": "RFYZaMvAcaYV"
   },
   "source": [
    "## 3. The behaviour of FL under data heterogeneity/creating heterogeneous partitions\n",
    "---\n"
   ]
  },
  {
   "cell_type": "markdown",
   "metadata": {
    "id": "zemO_m5s2Bff"
   },
   "source": [
    "### FEMNIST folder structure\n",
    "---"
   ]
  },
  {
   "cell_type": "markdown",
   "metadata": {
    "id": "OsTGyV4ms_bm"
   },
   "source": [
    "By default, FEMNIST will be split as follows:\n",
    "\n",
    "- `femnist`: the location of the relevant data\n",
    "  - `client_data_mappings`: contains different partitions\n",
    "    - `centralized`: mappings from writer_id -> `[image_path, label]` for the centralized dataset\n",
    "    - `fed_natural`: mappings from writer_id -> `[image_path, label]` for the naturally federated dataset\n",
    "  - `data`: contains the macro partitions between test, train, and val\n",
    "    - `train`: contains the raw images---samples of the train set\n",
    "    - `test`: contains the raw images---samples of the test set\n",
    "    - `val`: contains the raw images---samples of the val set\n",
    "- `femnist.tar.gz`: the compressed dataset\n",
    "\n",
    "We will store client datasets in sequentially labelled folders within each partition and do all necessary remapping in python.\n"
   ]
  },
  {
   "cell_type": "code",
   "execution_count": 27,
   "metadata": {
    "colab": {
     "base_uri": "https://localhost:8080/"
    },
    "id": "oZjU-2dyrVxC",
    "outputId": "ff22ac9e-73f4-476c-caf6-dfca749f0154"
   },
   "outputs": [
    {
     "name": "stdout",
     "output_type": "stream",
     "text": [
      "/bin/bash: line 1: tree: command not found\n"
     ]
    }
   ],
   "source": [
    "# Showing resulting folder tree\n",
    "! tree -dC -L 3 ./"
   ]
  },
  {
   "cell_type": "markdown",
   "metadata": {
    "id": "O_QqLvPZ2Bff"
   },
   "source": [
    "### Test sets for FL\n",
    "---"
   ]
  },
  {
   "cell_type": "markdown",
   "metadata": {
    "id": "VhsBuoiOtDzE"
   },
   "source": [
    "Prior to constructing our centralized partition, it is necessary to discuss what a test set even means for FL.\n",
    "\n",
    "A testing set can generally be either a **federated test set** or a **local test set**:\n",
    "\n",
    "- A federated test set contains data representative of the entire federated network and is used to provide a form of centralized-like evaluation of the federated model. In production scenarios, this would be data that has been consensually gathered from a multitude of users and is legal/efficient to store on the server or clients which have been kept out of the training loop. For research purposes it can be constructed in one of the two following ways:\n",
    "  - Take x% of data from all clients and save it separately.\n",
    "  - Leave y% of clients utterly unavailable for federated training and use their data as a test/validation set. **This is the version we shall use during the lab for the federated test set.**\n",
    "- A local test set is formed via data from a specific client which has not been seen during training. There are as many local test sets as there are clients. As such, they can be used to test the model on a specific client or to accumulate average statistics to determine its performance.\n"
   ]
  },
  {
   "cell_type": "markdown",
   "metadata": {
    "id": "PEnNRUzntSHQ"
   },
   "source": [
    "### Creating and using partitions\n",
    "---"
   ]
  },
  {
   "cell_type": "markdown",
   "metadata": {
    "id": "8XBPXfzPtkJe"
   },
   "source": [
    "#### Class imbalancedness\n",
    "---"
   ]
  },
  {
   "cell_type": "markdown",
   "metadata": {
    "id": "xEzJSW4TvEmK"
   },
   "source": [
    "We will start creating class imbalanced partitions. The most representative example, as often happens, is the extreme one. Thus, we are going to create a partition of the dataset in which each client possesses one class only. This aim sets one parameter for the creation of the current partition, but we need to choose also another parameter: the number of clients we want to create or the number of samples per client that we want to infer. These last are two antagonist parameters that describe the same thing. The larger the number of clients is, the lower the number of samples per client is.\n",
    "\n",
    "Let's start by looking at how labels are distributed in the entire dataset (test set only), by treating the dataset as centralized.\n"
   ]
  },
  {
   "cell_type": "code",
   "execution_count": 28,
   "metadata": {
    "colab": {
     "base_uri": "https://localhost:8080/",
     "height": 337
    },
    "id": "yLEQJLkjwM4u",
    "outputId": "704b99b0-a234-4327-e692-43531e1ce524"
   },
   "outputs": [
    {
     "data": {
      "text/plain": [
       "<matplotlib.legend.Legend at 0x7ddec97a1b10>"
      ]
     },
     "execution_count": 28,
     "metadata": {},
     "output_type": "execute_result"
    },
    {
     "data": {
      "image/png": "[encoded data removed]",
      "text/plain": [
       "<Figure size 1000x500 with 2 Axes>"
      ]
     },
     "metadata": {},
     "output_type": "display_data"
    }
   ],
   "source": [
    "centralized_train_dataset: FEMNIST = FEMNIST(\n",
    "    mapping=centralized_partition / \"0\", data_dir=data_dir, name=\"train\"\n",
    ")\n",
    "centralized_test_dataset: FEMNIST = FEMNIST(\n",
    "    mapping=centralized_partition / \"0\", data_dir=data_dir, name=\"test\"\n",
    ")\n",
    "fig, ax = plt.subplots(1, 2, figsize=(10, 5))\n",
    "train_histo = ax[0].hist(\n",
    "    [int(x[1]) for x in centralized_train_dataset.data],\n",
    "    bins=62,\n",
    "    color=\"blue\",\n",
    "    alpha=0.7,\n",
    "    label=\"centralized train dataset\",\n",
    ")\n",
    "test_histo = ax[1].hist(\n",
    "    [int(x[1]) for x in centralized_test_dataset.data],\n",
    "    bins=62,\n",
    "    color=\"orange\",\n",
    "    alpha=0.7,\n",
    "    label=\"centralized test dataset\",\n",
    ")\n",
    "ax[0].legend()\n",
    "ax[1].legend()"
   ]
  },
  {
   "cell_type": "markdown",
   "metadata": {
    "id": "0AWfsLZo9jmi"
   },
   "source": [
    "Since the distribution is all but uniform, we need to make a further choice. We want to build a federation of 62 clients each of them having one class only. We want all the classes to be represented in the federation. Likewise, we also want FedAvg to treat equally all the clients in the federation. Thus, we will need to partition clients taking into account the population of the least represented class in both the `train` and the `test` set.\n"
   ]
  },
  {
   "cell_type": "code",
   "execution_count": 29,
   "metadata": {
    "colab": {
     "base_uri": "https://localhost:8080/"
    },
    "id": "1_yGo1zI9UyA",
    "outputId": "dc57594b-63b0-46e5-e59b-3902ac8e29f8"
   },
   "outputs": [
    {
     "name": "stderr",
     "output_type": "stream",
     "text": [
      "INFO flwr 2025-02-15 20:07:51,625 | 3870438806.py:1 | The least represented class in the train set has 1786.0 samples\n",
      "INFO flwr 2025-02-15 20:07:51,629 | 3870438806.py:6 | The least represented class in the test set has 233.0 samples\n"
     ]
    }
   ],
   "source": [
    "log(\n",
    "    INFO,\n",
    "    \"The least represented class in the train set has %s samples\",\n",
    "    min(train_histo[0]),\n",
    ")\n",
    "log(\n",
    "    INFO,\n",
    "    \"The least represented class in the test set has %s samples\",\n",
    "    min(test_histo[0]),\n",
    ")\n",
    "max_train_samples = int(min(train_histo[0]))\n",
    "max_test_samples = int(min(test_histo[0]))"
   ]
  },
  {
   "cell_type": "markdown",
   "metadata": {
    "id": "OuvZvcU3_eq0"
   },
   "source": [
    "Let's now create the function that creates the partition. We will stick to the folder structure the dataset has.\n"
   ]
  },
  {
   "cell_type": "code",
   "execution_count": 30,
   "metadata": {
    "id": "fvJS4NX5_r-F"
   },
   "outputs": [],
   "source": [
    "class_imbalanced_partition: Path = (\n",
    "    dataset_dir / \"client_data_mappings\" / \"class_imbalanced\"\n",
    ")\n",
    "class_imbalanced_partition.mkdir(parents=True, exist_ok=True)\n",
    "train_df = pd.read_csv(centralized_mapping / \"train.csv\")\n",
    "test_df = pd.read_csv(centralized_mapping / \"test.csv\")\n",
    "max_train_samples = 200\n",
    "max_test_samples = 50\n",
    "for i in range(62):\n",
    "    folder_path: Path = class_imbalanced_partition / str(i)\n",
    "    folder_path.mkdir(parents=True, exist_ok=True)\n",
    "\n",
    "    train_path: Path = folder_path / \"train.csv\"\n",
    "    test_path: Path = folder_path / \"test.csv\"\n",
    "\n",
    "    client_df = deepcopy(\n",
    "        train_df[train_df.label == i].sample(frac=1)[:max_train_samples]\n",
    "    ).reset_index()\n",
    "    client_df[\"client_id\"] = i\n",
    "    client_df = client_df.drop(columns=[\"level_0\"])\n",
    "    client_df.to_csv(train_path, index=False)\n",
    "    client_df = deepcopy(\n",
    "        test_df[test_df.label == i].sample(frac=1)[:max_test_samples]\n",
    "    ).reset_index()\n",
    "    client_df[\"client_id\"] = i\n",
    "    client_df = client_df.drop(columns=[\"level_0\"])\n",
    "    client_df.to_csv(test_path, index=False)"
   ]
  },
  {
   "cell_type": "markdown",
   "metadata": {},
   "source": [
    "Here, we seed the initial model parameters to come from a partially trained model on the centralized dataset.\n"
   ]
  },
  {
   "cell_type": "code",
   "execution_count": 31,
   "metadata": {
    "id": "z0Bj3btM9llx"
   },
   "outputs": [
    {
     "name": "stderr",
     "output_type": "stream",
     "text": [
      "INFO flwr 2025-02-15 20:08:29,638 | client.py:51 | Creating client with cid: 0\n"
     ]
    }
   ],
   "source": [
    "torch.manual_seed(Seeds.DEFAULT)\n",
    "network_generator_cnn = get_network_generator_cnn()\n",
    "seed_net_cnn = network_generator_cnn()\n",
    "centralized_flower_client_generator: Callable[[str], FlowerClient] = (\n",
    "    get_flower_client_generator(\n",
    "        model_generator=network_generator_cnn,\n",
    "        partition_dir=centralized_partition,\n",
    "        data_dir=data_dir,\n",
    "    )\n",
    ")\n",
    "centralized_flower_client = centralized_flower_client_generator(str(0))\n",
    "centralized_train_config: dict[str, Any] = {\n",
    "    \"epochs\": 1,\n",
    "    \"batch_size\": 32,\n",
    "    \"client_learning_rate\": 0.01,\n",
    "    \"weight_decay\": 0.001,\n",
    "    \"num_workers\": 0,\n",
    "    \"max_batches\": 1000,\n",
    "}\n",
    "test_config: dict[str, Any] = {\n",
    "    \"batch_size\": 32,\n",
    "    \"num_workers\": 0,\n",
    "    \"max_batches\": None,\n",
    "}\n",
    "# Train parameters on the centralised dataset\n",
    "trained_params, num_examples, train_metrics = fit_client_seeded(\n",
    "    centralized_flower_client,\n",
    "    params=get_model_parameters(seed_net_cnn),\n",
    "    conf=centralized_train_config,\n",
    ")\n",
    "initial_parameters: Parameters = ndarrays_to_parameters(trained_params)"
   ]
  },
  {
   "cell_type": "markdown",
   "metadata": {},
   "source": [
    "We also create the centralised evaluation function that will be executed by the server at the end of every round if requested.\n"
   ]
  },
  {
   "cell_type": "code",
   "execution_count": 32,
   "metadata": {
    "id": "pRiXe-eU9m4u"
   },
   "outputs": [
    {
     "name": "stderr",
     "output_type": "stream",
     "text": [
      "INFO flwr 2025-02-15 20:09:04,587 | client_utils.py:423 | Reduced federated test_set size from 28510 to a size of 1500 mean index: 14726.628666666667\n"
     ]
    }
   ],
   "source": [
    "federated_evaluation_function = get_federated_evaluation_function(\n",
    "    data_dir=data_dir,\n",
    "    centralized_mapping=centralized_mapping,\n",
    "    device=get_device(),\n",
    "    batch_size=test_config[\"batch_size\"],\n",
    "    num_workers=test_config[\"num_workers\"],\n",
    "    model_generator=network_generator_cnn,\n",
    "    criterion=nn.CrossEntropyLoss(),\n",
    ")"
   ]
  },
  {
   "cell_type": "markdown",
   "metadata": {},
   "source": [
    "Finally, the client generator function.\n"
   ]
  },
  {
   "cell_type": "code",
   "execution_count": 33,
   "metadata": {
    "id": "Z0Ohncc3DLJG"
   },
   "outputs": [],
   "source": [
    "imbalanced_flower_client_generator: Callable[[str], FlowerClient] = (\n",
    "    get_flower_client_generator(\n",
    "        model_generator=network_generator_cnn,\n",
    "        data_dir=data_dir,\n",
    "        partition_dir=class_imbalanced_partition,\n",
    "    )\n",
    ")"
   ]
  },
  {
   "cell_type": "markdown",
   "metadata": {},
   "source": [
    "Let's see how these clients look like.\n"
   ]
  },
  {
   "cell_type": "code",
   "execution_count": 24,
   "metadata": {},
   "outputs": [
    {
     "name": "stderr",
     "output_type": "stream",
     "text": [
      "INFO flwr 2025-02-12 12:36:23,066 | client.py:51 | Creating client with cid: 0\n",
      "INFO flwr 2025-02-12 12:36:23,110 | client.py:51 | Creating client with cid: 0\n"
     ]
    },
    {
     "data": {
      "text/plain": [
       "<matplotlib.legend.Legend at 0x7da3883186a0>"
      ]
     },
     "execution_count": 24,
     "metadata": {},
     "output_type": "execute_result"
    },
    {
     "data": {
      "image/png": "[encoded data removed]",
      "text/plain": [
       "<Figure size 640x480 with 1 Axes>"
      ]
     },
     "metadata": {},
     "output_type": "display_data"
    }
   ],
   "source": [
    "N_CLASSES = 62\n",
    "train_dataset_client_0 = imbalanced_flower_client_generator(str(0))._load_dataset(\n",
    "    \"train\"\n",
    ")\n",
    "plt.hist(\n",
    "    [int(x[1]) for x in train_dataset_client_0.data],\n",
    "    bins=N_CLASSES,\n",
    "    color=\"blue\",\n",
    "    alpha=0.7,\n",
    "    label=\"client 0 train set\",\n",
    ")\n",
    "train_dataset_client_1 = imbalanced_flower_client_generator(str(0))._load_dataset(\n",
    "    \"train\"\n",
    ")\n",
    "plt.hist(\n",
    "    [int(x[1]) for x in train_dataset_client_1.data],\n",
    "    bins=N_CLASSES,\n",
    "    color=\"orange\",\n",
    "    alpha=0.7,\n",
    "    label=\"client 1 train set\",\n",
    ")\n",
    "plt.legend()"
   ]
  },
  {
   "cell_type": "markdown",
   "metadata": {},
   "source": [
    "We will now create a wrapper for the strategy that will be used to extract the clients' model parameters obtained during the training for the next question.\n"
   ]
  },
  {
   "cell_type": "code",
   "execution_count": 141,
   "metadata": {},
   "outputs": [],
   "source": [
    "class WrappedFedAvg(FedAvg):\n",
    "    \"\"\"Wrap the FedAvg strategy to store clients' models.\"\"\"\n",
    "\n",
    "    clients_models: ClassVar[dict[int, list[tuple[int, NDArrays]]]] = {}\n",
    "    results = {}\n",
    "\n",
    "    def aggregate_fit(\n",
    "        self,\n",
    "        server_round: int,\n",
    "        results: list[tuple[ClientProxy, FitRes]],\n",
    "        failures: list[tuple[ClientProxy, FitRes] | BaseException],\n",
    "    ) -> tuple[Parameters | None, dict[str, Scalar]]:\n",
    "        \"\"\"Aggregate fit results using weighted average.\"\"\"\n",
    "        # Call FedAvg original aggregate_fit, so that it handles the failures\n",
    "        ret = super().aggregate_fit(server_round, results, failures)\n",
    "        # Append clients' model parameters to the list\n",
    "\n",
    "        self.results[server_round] = results\n",
    "        \n",
    "        self.clients_models[server_round] = [\n",
    "            (i, parameters_to_ndarrays(fit_res.parameters))\n",
    "            for i, (_, fit_res) in enumerate(results)\n",
    "        ]\n",
    "        # Return the original return value\n",
    "        return ret"
   ]
  },
  {
   "cell_type": "code",
   "execution_count": 142,
   "metadata": {
    "id": "iuSAFGmXDgYT"
   },
   "outputs": [],
   "source": [
    "train_config: dict[str, Any] = {\n",
    "    \"epochs\": 8,\n",
    "    \"batch_size\": 32,\n",
    "    \"client_learning_rate\": 0.01,\n",
    "    \"weight_decay\": 0.001,\n",
    "    \"num_workers\": 0,\n",
    "    \"max_batches\": None,\n",
    "}\n",
    "\n",
    "\n",
    "def _on_fit_config_fn(server_round: int) -> dict[str, Scalar]:\n",
    "    train_config.update({\"server_round\": server_round})\n",
    "    return train_config\n",
    "\n",
    "\n",
    "num_total_clients = 62\n",
    "num_clients_per_round: int = 5\n",
    "num_evaluate_clients: int = 5\n",
    "\n",
    "strategy = WrappedFedAvg(\n",
    "    fraction_fit=sys.float_info.min,\n",
    "    fraction_evaluate=sys.float_info.min,\n",
    "    min_fit_clients=num_clients_per_round,\n",
    "    min_evaluate_clients=num_evaluate_clients,\n",
    "    min_available_clients=max(num_clients_per_round, num_evaluate_clients),\n",
    "    on_fit_config_fn=_on_fit_config_fn,\n",
    "    on_evaluate_config_fn=None,\n",
    "    evaluate_fn=federated_evaluation_function,\n",
    "    initial_parameters=initial_parameters,\n",
    "    accept_failures=False,\n",
    "    fit_metrics_aggregation_fn=aggregate_weighted_average,\n",
    "    evaluate_metrics_aggregation_fn=aggregate_weighted_average,\n",
    ")"
   ]
  },
  {
   "cell_type": "code",
   "execution_count": 143,
   "metadata": {
    "colab": {
     "base_uri": "https://localhost:8080/"
    },
    "id": "5sFPqF0k596b",
    "outputId": "3c8b36f3-1cf7-448f-a60e-36d2d1c18043"
   },
   "outputs": [
    {
     "name": "stderr",
     "output_type": "stream",
     "text": [
      "INFO flwr 2025-02-17 11:11:34,952 | app.py:149 | Starting Flower simulation, config: ServerConfig(num_rounds=5, round_timeout=None)\n",
      "INFO flwr 2025-02-17 11:11:34,954 | server_returns_parameters.py:81 | Initializing global parameters\n",
      "INFO flwr 2025-02-17 11:11:34,956 | server_returns_parameters.py:273 | Using initial parameters provided by strategy\n",
      "INFO flwr 2025-02-17 11:11:34,958 | server_returns_parameters.py:84 | Evaluating initial parameters\n",
      "100%|██████████| 47/47 [00:00<00:00, 128.31it/s]\n",
      "INFO flwr 2025-02-17 11:11:35,330 | server_returns_parameters.py:87 | initial parameters (loss, other metrics): 58.9051810503006, {'accuracy': 0.5913333333333334}\n",
      "INFO flwr 2025-02-17 11:11:35,331 | server_returns_parameters.py:97 | FL starting\n",
      "DEBUG flwr 2025-02-17 11:11:35,331 | server_returns_parameters.py:223 | fit_round 1: strategy sampled 5 clients (out of 62)\n",
      "INFO flwr 2025-02-17 11:11:35,332 | client.py:51 | Creating client with cid: 39\n",
      "INFO flwr 2025-02-17 11:11:35,333 | client.py:51 | Creating client with cid: 59\n",
      "INFO flwr 2025-02-17 11:11:35,333 | client.py:51 | Creating client with cid: 34\n",
      "INFO flwr 2025-02-17 11:11:35,333 | client.py:51 | Creating client with cid: 45\n",
      "INFO flwr 2025-02-17 11:11:35,334 | client.py:51 | Creating client with cid: 23\n",
      "DEBUG flwr 2025-02-17 11:11:37,830 | server_returns_parameters.py:237 | fit_round 1 received 5 results and 0 failures\n",
      "100%|██████████| 47/47 [00:00<00:00, 134.10it/s]\n",
      "INFO flwr 2025-02-17 11:11:38,190 | server_returns_parameters.py:120 | fit progress: (1, 237.72108268737793, {'accuracy': 0.07666666666666666}, 2.858731293999881)\n",
      "DEBUG flwr 2025-02-17 11:11:38,191 | server_returns_parameters.py:173 | evaluate_round 1: strategy sampled 5 clients (out of 62)\n",
      "INFO flwr 2025-02-17 11:11:38,191 | client.py:51 | Creating client with cid: 36\n",
      "INFO flwr 2025-02-17 11:11:38,192 | client.py:51 | Creating client with cid: 37\n",
      "INFO flwr 2025-02-17 11:11:38,192 | client.py:51 | Creating client with cid: 46\n",
      "INFO flwr 2025-02-17 11:11:38,194 | client.py:51 | Creating client with cid: 10\n",
      "INFO flwr 2025-02-17 11:11:38,194 | client.py:51 | Creating client with cid: 49\n",
      "DEBUG flwr 2025-02-17 11:11:38,209 | server_returns_parameters.py:187 | evaluate_round 1 received 0 results and 5 failures\n",
      "DEBUG flwr 2025-02-17 11:11:38,209 | server_returns_parameters.py:223 | fit_round 2: strategy sampled 5 clients (out of 62)\n",
      "INFO flwr 2025-02-17 11:11:38,210 | client.py:51 | Creating client with cid: 52\n",
      "INFO flwr 2025-02-17 11:11:38,210 | client.py:51 | Creating client with cid: 21\n",
      "INFO flwr 2025-02-17 11:11:38,210 | client.py:51 | Creating client with cid: 24\n",
      "INFO flwr 2025-02-17 11:11:38,211 | client.py:51 | Creating client with cid: 40\n",
      "INFO flwr 2025-02-17 11:11:38,213 | client.py:51 | Creating client with cid: 50\n",
      "DEBUG flwr 2025-02-17 11:11:40,636 | server_returns_parameters.py:237 | fit_round 2 received 5 results and 0 failures\n",
      "100%|██████████| 47/47 [00:00<00:00, 164.85it/s]\n",
      "INFO flwr 2025-02-17 11:11:40,928 | server_returns_parameters.py:120 | fit progress: (2, 163.13973307609558, {'accuracy': 0.206}, 5.5969012130008196)\n",
      "DEBUG flwr 2025-02-17 11:11:40,929 | server_returns_parameters.py:173 | evaluate_round 2: strategy sampled 5 clients (out of 62)\n",
      "INFO flwr 2025-02-17 11:11:40,929 | client.py:51 | Creating client with cid: 23\n",
      "INFO flwr 2025-02-17 11:11:40,930 | client.py:51 | Creating client with cid: 58\n",
      "INFO flwr 2025-02-17 11:11:40,931 | client.py:51 | Creating client with cid: 19\n",
      "INFO flwr 2025-02-17 11:11:40,931 | client.py:51 | Creating client with cid: 25\n",
      "INFO flwr 2025-02-17 11:11:40,932 | client.py:51 | Creating client with cid: 44\n",
      "DEBUG flwr 2025-02-17 11:11:40,951 | server_returns_parameters.py:187 | evaluate_round 2 received 0 results and 5 failures\n",
      "DEBUG flwr 2025-02-17 11:11:40,953 | server_returns_parameters.py:223 | fit_round 3: strategy sampled 5 clients (out of 62)\n",
      "INFO flwr 2025-02-17 11:11:40,954 | client.py:51 | Creating client with cid: 13\n",
      "INFO flwr 2025-02-17 11:11:40,955 | client.py:51 | Creating client with cid: 48\n",
      "INFO flwr 2025-02-17 11:11:40,955 | client.py:51 | Creating client with cid: 42\n",
      "INFO flwr 2025-02-17 11:11:40,956 | client.py:51 | Creating client with cid: 55\n",
      "INFO flwr 2025-02-17 11:11:40,957 | client.py:51 | Creating client with cid: 58\n",
      "DEBUG flwr 2025-02-17 11:11:43,654 | server_returns_parameters.py:237 | fit_round 3 received 5 results and 0 failures\n",
      "100%|██████████| 47/47 [00:00<00:00, 192.97it/s]\n",
      "INFO flwr 2025-02-17 11:11:43,905 | server_returns_parameters.py:120 | fit progress: (3, 184.3394706249237, {'accuracy': 0.10733333333333334}, 8.573746428002778)\n",
      "DEBUG flwr 2025-02-17 11:11:43,905 | server_returns_parameters.py:173 | evaluate_round 3: strategy sampled 5 clients (out of 62)\n",
      "INFO flwr 2025-02-17 11:11:43,906 | client.py:51 | Creating client with cid: 23\n",
      "INFO flwr 2025-02-17 11:11:43,906 | client.py:51 | Creating client with cid: 6\n",
      "INFO flwr 2025-02-17 11:11:43,907 | client.py:51 | Creating client with cid: 27\n",
      "INFO flwr 2025-02-17 11:11:43,907 | client.py:51 | Creating client with cid: 52\n",
      "INFO flwr 2025-02-17 11:11:43,908 | client.py:51 | Creating client with cid: 40\n",
      "DEBUG flwr 2025-02-17 11:11:43,927 | server_returns_parameters.py:187 | evaluate_round 3 received 0 results and 5 failures\n",
      "DEBUG flwr 2025-02-17 11:11:43,928 | server_returns_parameters.py:223 | fit_round 4: strategy sampled 5 clients (out of 62)\n",
      "INFO flwr 2025-02-17 11:11:43,928 | client.py:51 | Creating client with cid: 25\n",
      "INFO flwr 2025-02-17 11:11:43,929 | client.py:51 | Creating client with cid: 57\n",
      "INFO flwr 2025-02-17 11:11:43,931 | client.py:51 | Creating client with cid: 4\n",
      "INFO flwr 2025-02-17 11:11:43,933 | client.py:51 | Creating client with cid: 32\n",
      "INFO flwr 2025-02-17 11:11:43,935 | client.py:51 | Creating client with cid: 44\n",
      "DEBUG flwr 2025-02-17 11:11:46,351 | server_returns_parameters.py:237 | fit_round 4 received 5 results and 0 failures\n",
      "100%|██████████| 47/47 [00:00<00:00, 231.80it/s]\n",
      "INFO flwr 2025-02-17 11:11:46,563 | server_returns_parameters.py:120 | fit progress: (4, 171.2422857284546, {'accuracy': 0.2}, 11.231358053999429)\n",
      "DEBUG flwr 2025-02-17 11:11:46,563 | server_returns_parameters.py:173 | evaluate_round 4: strategy sampled 5 clients (out of 62)\n",
      "INFO flwr 2025-02-17 11:11:46,564 | client.py:51 | Creating client with cid: 42\n",
      "INFO flwr 2025-02-17 11:11:46,564 | client.py:51 | Creating client with cid: 22\n",
      "INFO flwr 2025-02-17 11:11:46,564 | client.py:51 | Creating client with cid: 56\n",
      "INFO flwr 2025-02-17 11:11:46,565 | client.py:51 | Creating client with cid: 25\n",
      "INFO flwr 2025-02-17 11:11:46,571 | client.py:51 | Creating client with cid: 51\n",
      "DEBUG flwr 2025-02-17 11:11:46,583 | server_returns_parameters.py:187 | evaluate_round 4 received 0 results and 5 failures\n",
      "DEBUG flwr 2025-02-17 11:11:46,584 | server_returns_parameters.py:223 | fit_round 5: strategy sampled 5 clients (out of 62)\n",
      "INFO flwr 2025-02-17 11:11:46,584 | client.py:51 | Creating client with cid: 47\n",
      "INFO flwr 2025-02-17 11:11:46,585 | client.py:51 | Creating client with cid: 51\n",
      "INFO flwr 2025-02-17 11:11:46,585 | client.py:51 | Creating client with cid: 19\n",
      "INFO flwr 2025-02-17 11:11:46,586 | client.py:51 | Creating client with cid: 42\n",
      "INFO flwr 2025-02-17 11:11:46,587 | client.py:51 | Creating client with cid: 1\n",
      "DEBUG flwr 2025-02-17 11:11:48,973 | server_returns_parameters.py:237 | fit_round 5 received 5 results and 0 failures\n",
      "100%|██████████| 47/47 [00:00<00:00, 143.58it/s]\n",
      "INFO flwr 2025-02-17 11:11:49,308 | server_returns_parameters.py:120 | fit progress: (5, 123.27822422981262, {'accuracy': 0.26266666666666666}, 13.9766041949988)\n",
      "DEBUG flwr 2025-02-17 11:11:49,308 | server_returns_parameters.py:173 | evaluate_round 5: strategy sampled 5 clients (out of 62)\n",
      "INFO flwr 2025-02-17 11:11:49,309 | client.py:51 | Creating client with cid: 53\n",
      "INFO flwr 2025-02-17 11:11:49,310 | client.py:51 | Creating client with cid: 22\n",
      "INFO flwr 2025-02-17 11:11:49,310 | client.py:51 | Creating client with cid: 38\n",
      "INFO flwr 2025-02-17 11:11:49,311 | client.py:51 | Creating client with cid: 7\n",
      "INFO flwr 2025-02-17 11:11:49,312 | client.py:51 | Creating client with cid: 29\n",
      "DEBUG flwr 2025-02-17 11:11:49,326 | server_returns_parameters.py:187 | evaluate_round 5 received 0 results and 5 failures\n",
      "INFO flwr 2025-02-17 11:11:49,327 | server_returns_parameters.py:150 | FL finished in 13.995529173997056\n",
      "INFO flwr 2025-02-17 11:11:49,327 | app.py:250 | app_fit: losses_distributed []\n",
      "INFO flwr 2025-02-17 11:11:49,327 | app.py:251 | app_fit: metrics_distributed_fit {'train_loss': [(1, {'avg': 6.800335792233232e-08, 'all': [(6, 0.0), (6, 0.0), (6, 1.102053448382804e-08), (6, 3.289962551278336e-07), (6, 0.0)]}), (2, {'avg': 2.1059146483592972e-07, 'all': [(6, 3.420640230326436e-08), (6, 1.9402552481340152e-11), (6, 1.559942587950336e-08), (6, 9.996396575691808e-07), (6, 3.4924358752186357e-09)]}), (3, {'avg': 1.1342477774604435e-08, 'all': [(6, 2.679432054009112e-08), (6, 0.0), (6, 1.1641517518497697e-09), (6, 0.0), (6, 2.8753916581081285e-08)]}), (4, {'avg': 1.2145972017503965e-09, 'all': [(6, 4.074533846894675e-10), (6, 0.0), (6, 5.5879224164501196e-09), (6, 5.820765513105582e-11), (6, 1.9402552481340152e-11)]}), (5, {'avg': 2.1070495861974513e-09, 'all': [(6, 1.0515845378505917e-08), (6, 0.0), (6, 0.0), (6, 1.9402552481340152e-11), (6, 0.0)]})]}\n",
      "INFO flwr 2025-02-17 11:11:49,328 | app.py:252 | app_fit: metrics_distributed {}\n",
      "INFO flwr 2025-02-17 11:11:49,328 | app.py:253 | app_fit: losses_centralized [(0, 58.9051810503006), (1, 237.72108268737793), (2, 163.13973307609558), (3, 184.3394706249237), (4, 171.2422857284546), (5, 123.27822422981262)]\n",
      "INFO flwr 2025-02-17 11:11:49,328 | app.py:254 | app_fit: metrics_centralized {'accuracy': [(0, 0.5913333333333334), (1, 0.07666666666666666), (2, 0.206), (3, 0.10733333333333334), (4, 0.2), (5, 0.26266666666666666)]}\n"
     ]
    }
   ],
   "source": [
    "params, hist = start_seeded_simulation(\n",
    "    client_fn=lambda cid: imbalanced_flower_client_generator(cid).to_client(),\n",
    "    num_clients=num_total_clients,\n",
    "    config=ServerConfig(num_rounds=5),\n",
    "    strategy=strategy,\n",
    "    name=\"imbalanced\",\n",
    ")"
   ]
  },
  {
   "cell_type": "markdown",
   "metadata": {},
   "source": [
    "We will now investigate how such a partition behaves in an FL setting. In particular, we will try to understand what happens to the global model and the clients' updates as the training progresses.\n"
   ]
  },
  {
   "cell_type": "markdown",
   "metadata": {
    "id": "uzG9xF-lgb51"
   },
   "source": [
    "---\n",
    "\n",
    "**Question 2 (Part II ✅):**\n",
    "\n",
    "(You need to provide the answer with **code** and **plots** for this question. A short written argumentation is recommended.)\n",
    "\n",
    "1. For each round, retrieve the clients' models and the global model using the appropriate attribute of the `WrappedFedAvg` strategy.\n",
    "2. Inspect the models collected for each round as follows:\n",
    "   - Extract the \"softmax-ed\" activations of the last layer of each clients' model when the model is fed with random inputs. (HINT: `from common.client_utils import get_activations_from_random_input`, give a motivation for the choice of the parameters of this function if you decide to use it)\n",
    "   - Compute the pairwise cosine-similarity (you can use functions similar to those used in the previous Lab) between the values obtained in the previous step.\n",
    "   - Plot the results of this computation in a confusion matrix. The confusion matrix will have the shape `n_clients_per_round`x`n_clients_per_round`.\n",
    "   - Repeat the same procedure for computing and compare the pairwise KL divergence between the \"softmax-ed\" activations of the last layer of each clients' model when the model is fed with random inputs. (HINT: `from scipy.stats import entropy`).\n",
    "3. Compare the confusion matrices obtained. What do you observe, and how does it compare with your expectations? Briefly discuss the results.\n",
    "\n",
    "---\n"
   ]
  },
  {
   "cell_type": "code",
   "execution_count": 191,
   "metadata": {},
   "outputs": [],
   "source": [
    "from common.client_utils import get_activations_from_random_input\n",
    "import numpy.typing as npt\n",
    "from matplotlib import pyplot as plt\n",
    "import matplotlib as mpl\n",
    "\n",
    "len(strategy.clients_models) # indexed by round -> index from 0 to 4 -> (client index, NDArrays)\n",
    "\n",
    "# Copy over the cosine_similarity functions from Lab 1\n",
    "def cosine_similarity(vec1: npt.NDArray, vec2: npt.NDArray):\n",
    "    '''\n",
    "    We compute the cosine_similarity between two 1-D vectors x, y as\n",
    "    x dot y / ||X|| ||Y||\n",
    "\n",
    "    because x dot y = ||X|| ||Y|| cos (theta)\n",
    "    '''\n",
    "    return np.dot(vec1, vec2) / (np.linalg.norm(vec1) * np.linalg.norm(vec2))\n",
    "\n",
    "def flatten(ndarrays: NDArrays):\n",
    "    '''\n",
    "    Given a list of numpy NDArray objects, we flatten all the elements\n",
    "    into a single 1-D vector\n",
    "    '''\n",
    "    result = np.concatenate([x.reshape(-1) for x in ndarrays])\n",
    "    return result\n",
    "\n",
    "def get_parameters_cosine_similarity(params1: NDArrays, params2: NDArrays):\n",
    "    '''\n",
    "    Calculates the cosine similarity between two\n",
    "    model parameters (NDArrays) by flattening them and\n",
    "    performing cosine similarity\n",
    "    '''\n",
    "\n",
    "    params1_1d = flatten(params1)\n",
    "    params2_1d = flatten(params2)\n",
    "\n",
    "    # Check that the two vectors are of the same dimensions\n",
    "    assert params1_1d.shape == params2_1d.shape\n",
    "\n",
    "    return cosine_similarity(params1_1d, params2_1d)\n",
    "\n",
    "\n",
    "def plot_similarity_matrix(similarity_matrix: npt.NDArray, \n",
    "                           title:str=None, \n",
    "                           model_names:str=None):\n",
    "    n_models=len(similarity_matrix)\n",
    "\n",
    "    # Plot the colour squares\n",
    "    fix, ax = plt.subplots()\n",
    "    im = ax.imshow(similarity_matrix, cmap=mpl.cm.Blues)\n",
    "    plt.colorbar(im)\n",
    "\n",
    "    if title:\n",
    "        plt.title(title)\n",
    "\n",
    "    # Add the axis labels onto the figure\n",
    "    ax.set_xticks(np.arange(n_models))\n",
    "    ax.set_yticks(np.arange(n_models))\n",
    "    if model_names:\n",
    "        assert len(model_names) == n_models\n",
    "        ax.set_xticklabels(model_names, rotation=45, ha=\"right\")\n",
    "        ax.set_yticklabels(model_names)\n",
    "\n",
    "    # Add the cell labels\n",
    "    for i in range(similarity_matrix.shape[0]):\n",
    "        for j in range(similarity_matrix.shape[1]):\n",
    "            text = f\"{similarity_matrix[i, j]:.4f}\"\n",
    "            ax.text(j, i, text, ha=\"center\", va=\"center\", color=\"black\")\n",
    "    plt.show()"
   ]
  },
  {
   "cell_type": "markdown",
   "metadata": {},
   "source": [
    "Sanity check to make sure all the model parameters have the expected shape"
   ]
  },
  {
   "cell_type": "code",
   "execution_count": 179,
   "metadata": {},
   "outputs": [
    {
     "name": "stdout",
     "output_type": "stream",
     "text": [
      "((6, 1, 5, 5), (6,), (16, 6, 5, 5), (16,), (120, 256), (120,), (84, 120), (84,), (62, 84), (62,))\n"
     ]
    }
   ],
   "source": [
    "def get_model_shape(model: NDArrays):\n",
    "    return tuple([q.shape for q in model])\n",
    "\n",
    "sample_model_params = strategy.clients_models[1][0][1]\n",
    "model_shape = get_model_shape(sample_model_params)\n",
    "print(model_shape)\n",
    "\n",
    "for models_per_round in strategy.clients_models.values():\n",
    "    for model_per_client in models_per_round:\n",
    "        assert get_model_shape(model_per_client[1]) == model_shape"
   ]
  },
  {
   "cell_type": "markdown",
   "metadata": {},
   "source": [
    "Create a fresh CNN for each trained model and copy the parameters over"
   ]
  },
  {
   "cell_type": "code",
   "execution_count": 196,
   "metadata": {},
   "outputs": [],
   "source": [
    "from collections import OrderedDict\n",
    "\n",
    "def ndarrays_to_state_dict(parameters_ndarrays: NDArrays, \n",
    "                           reference_state_dict: OrderedDict[str, torch.tensor]):\n",
    "    '''\n",
    "    Construct a pytorch `state_dict` given parameters from NDArrays.\n",
    "    '''\n",
    "\n",
    "    new_state_dict = OrderedDict()\n",
    "    # print(\"Model layers=\", reference_state_dict.keys())\n",
    "\n",
    "    for idx, (layer_name, generated_parameters) in enumerate(reference_state_dict.items()):\n",
    "        new_state_dict[layer_name] = \\\n",
    "            torch.tensor(parameters_ndarrays[idx])\n",
    "        assert generated_parameters.shape == parameters_ndarrays[idx].shape\n",
    "\n",
    "    return new_state_dict\n"
   ]
  },
  {
   "cell_type": "markdown",
   "metadata": {},
   "source": [
    "If we visualise the activations (by uncommenting the code below), we can see that every model has a spike in the isolated class that they were trained on. This makes sense, because when all the model sees is Class X, it will learn to minimise loss by only predicting Class X and nothing else.\n",
    "\n"
   ]
  },
  {
   "cell_type": "code",
   "execution_count": 200,
   "metadata": {},
   "outputs": [],
   "source": [
    "def get_round_activations(round_idx):\n",
    "    # Create a list to store the activations per round\n",
    "    round_activations: list[npt.NDArray] = [] \n",
    "\n",
    "    for model_per_client in strategy.clients_models[round_idx]:\n",
    "        \n",
    "        network_generator_cnn = get_network_generator_cnn()\n",
    "        new_cnn = network_generator_cnn()\n",
    "        copied_state_dict = ndarrays_to_state_dict(model_per_client[1], new_cnn.state_dict())\n",
    "        new_cnn.load_state_dict(copied_state_dict)\n",
    "\n",
    "        activations = get_activations_from_random_input(new_cnn, get_device(), 100, 1337)\n",
    "        round_activations.append(activations)\n",
    "\n",
    "        # Plot the activations to check if it is what we expect\n",
    "        # plt.figure(figsize=(15, 6))\n",
    "        # plt.plot(activations)\n",
    "\n",
    "        # for i in range(62):\n",
    "        #     plt.axvline(x=i, color='gray', linestyle='-', alpha=0.5)\n",
    "    return round_activations"
   ]
  },
  {
   "cell_type": "code",
   "execution_count": 207,
   "metadata": {},
   "outputs": [],
   "source": [
    "def plot_round_activations_similarity_matrix(round_idx, title=None):\n",
    "\n",
    "    round_activations = get_round_activations(round_idx)\n",
    "\n",
    "    # Make everyone an NDArrays so I do not have to rewrite my Lab 1 code\n",
    "\n",
    "    round_activations_ndarrays = [[x] for x in round_activations] \n",
    "\n",
    "    similarity_matrix = np.zeros((num_clients_per_round, num_clients_per_round))\n",
    "    for idx_i, i in enumerate(round_activations_ndarrays):\n",
    "        for idx_j, j in enumerate(round_activations_ndarrays):\n",
    "            cosine = get_parameters_cosine_similarity(i, j)\n",
    "            similarity_matrix[idx_i][idx_j] = cosine\n",
    "\n",
    "    plot_similarity_matrix(similarity_matrix, title=title)\n"
   ]
  },
  {
   "cell_type": "markdown",
   "metadata": {},
   "source": [
    "The activation of each model is going to be very strong in its own class and near-zero everywhere else. For all pairs of distinct models, the class they were trained on was different. \n",
    "\n",
    "It makes sense that taking the cosine similarity of these output vectors will produce a result near-zero, which is what we would expect in the similarity matrices."
   ]
  },
  {
   "cell_type": "code",
   "execution_count": 209,
   "metadata": {},
   "outputs": [
    {
     "data": {
      "image/png": "[encoded data removed]",
      "text/plain": [
       "<Figure size 640x480 with 2 Axes>"
      ]
     },
     "metadata": {},
     "output_type": "display_data"
    },
    {
     "data": {
      "image/png": "[encoded data removed]",
      "text/plain": [
       "<Figure size 640x480 with 2 Axes>"
      ]
     },
     "metadata": {},
     "output_type": "display_data"
    },
    {
     "data": {
      "image/png": "[encoded data removed]",
      "text/plain": [
       "<Figure size 640x480 with 2 Axes>"
      ]
     },
     "metadata": {},
     "output_type": "display_data"
    },
    {
     "data": {
      "image/png": "[encoded data removed]",
      "text/plain": [
       "<Figure size 640x480 with 2 Axes>"
      ]
     },
     "metadata": {},
     "output_type": "display_data"
    },
    {
     "data": {
      "image/png": "[encoded data removed]",
      "text/plain": [
       "<Figure size 640x480 with 2 Axes>"
      ]
     },
     "metadata": {},
     "output_type": "display_data"
    }
   ],
   "source": [
    "for i in range(1, 6):\n",
    "    plot_round_activations_similarity_matrix(i, title=f'Round {i} Model Activation Similarity')"
   ]
  },
  {
   "cell_type": "markdown",
   "metadata": {},
   "source": [
    "\n",
    "---\n",
    "\n",
    "**Question 3 (Part III/MPhil ✅):**\n",
    "\n",
    "(This is meant to be a conceptual question. You should provide a written answer to this. **No more than 3 sentences**. **No code** is needed)\n",
    "\n",
    "1. Read about Multi-task Learning (MTL) [here](https://academic.oup.com/nsr/article/5/1/30/4101432). How does the concept of a client relate to a task in MTL?\n",
    "\n",
    "---\n"
   ]
  },
  {
   "cell_type": "markdown",
   "metadata": {
    "id": "I64eyic-tnWF"
   },
   "source": [
    "#### LDA partitions\n",
    "---"
   ]
  },
  {
   "cell_type": "markdown",
   "metadata": {
    "id": "iLFg0zOBh77Q"
   },
   "source": [
    "The most popular method for creating heterogeneous partitions from a centralized dataset in terms of class unbalancing is [Latent Dirichlet Allocation (LDA)](https://web.archive.org/web/20120501152722/http://jmlr.csail.mit.edu/papers/v3/blei03a.html). LDA is a generative probabilistic model for collections of discrete data. The paper linked above provides all the theoretical details about the method.\n",
    "\n",
    "The important detail for you to understand about LDA is that the `concentration` parameter controls the degree of heterogeneity in the distribution while `num_partitions` controls how many clients are generated following the specified distribution.\n",
    "\n",
    "A `concentration=0` implies a completely heterogeneous distribution where each client may only contain examples from one class. Thus, if for a `concentration=0` we were to set the `num_partitions` argument to the number of classes we will get the same partitioning as the one we manually created above.\n",
    "\n",
    "> **Important:** The LDA partitioning only approaches a fully i.i.d distribution when `concentration` tends towards $\\infty$. The most appropriate value of the `concentration` to generate a completely i.i.d. partition is dataset dependent. Feel free to try out different values of `concentration` and `num_partitions` to see how the partitioning changes.\n"
   ]
  },
  {
   "cell_type": "markdown",
   "metadata": {},
   "source": [
    "Let's create the partitions using LDA with `concentration=2.5` and `num_partitions=1000`. This will result in a non-i.i.d. partitioning.\n"
   ]
  },
  {
   "cell_type": "code",
   "execution_count": 210,
   "metadata": {
    "id": "ztmKkBPLhBVP"
   },
   "outputs": [],
   "source": [
    "N_TOTAL_CLIENTS = 1_000\n",
    "concentration = 2.5\n",
    "# Create partitions\n",
    "x = np.array([x[0] for x in centralized_train_dataset.data])\n",
    "y = np.array([x[1] for x in centralized_train_dataset.data])\n",
    "train_clients_partitions, dist = create_lda_partitions(\n",
    "    dataset=(x, y),\n",
    "    dirichlet_dist=None,\n",
    "    num_partitions=N_TOTAL_CLIENTS,\n",
    "    concentration=concentration,\n",
    "    accept_imbalanced=True,\n",
    "    seed=Seeds.DEFAULT,\n",
    ")\n",
    "x = np.array([x[0] for x in centralized_test_dataset.data])\n",
    "y = np.array([x[1] for x in centralized_test_dataset.data])\n",
    "test_clients_partitions, dist = create_lda_partitions(\n",
    "    dataset=(x, y),\n",
    "    dirichlet_dist=dist,\n",
    "    num_partitions=N_TOTAL_CLIENTS,\n",
    "    concentration=concentration,\n",
    "    accept_imbalanced=True,\n",
    "    seed=Seeds.DEFAULT,\n",
    ")"
   ]
  },
  {
   "cell_type": "markdown",
   "metadata": {},
   "source": [
    "Let's store the partitions in the folder structure we have been using so far.\n"
   ]
  },
  {
   "cell_type": "code",
   "execution_count": 211,
   "metadata": {
    "id": "_EFfE0fVqnCB"
   },
   "outputs": [],
   "source": [
    "lda_partition: Path = dataset_dir / \"client_data_mappings\" / \"lda\"\n",
    "if lda_partition.exists():\n",
    "    shutil.rmtree(str(lda_partition))\n",
    "lda_partition.mkdir(parents=True, exist_ok=True)\n",
    "\n",
    "for i, (train_set, test_set) in enumerate(\n",
    "    zip(train_clients_partitions, test_clients_partitions, strict=True)\n",
    "):\n",
    "    folder_path: Path = lda_partition / str(i)\n",
    "    folder_path.mkdir(parents=True, exist_ok=True)\n",
    "\n",
    "    train_path: Path = folder_path / \"train.csv\"\n",
    "    test_path: Path = folder_path / \"test.csv\"\n",
    "\n",
    "    pd.DataFrame({\n",
    "        \"client_id\": [0] * len(train_set[0]),\n",
    "        \"sample_path\": train_set[0],\n",
    "        \"sample_id\": range(len(train_set[0])),\n",
    "        \"label\": train_set[1],\n",
    "    }).to_csv(train_path, index=False, mode=\"w\")\n",
    "    pd.DataFrame({\n",
    "        \"client_id\": [0] * len(test_set[0]),\n",
    "        \"sample_path\": test_set[0],\n",
    "        \"sample_id\": range(len(test_set[0])),\n",
    "        \"label\": test_set[1],\n",
    "    }).to_csv(test_path, index=False, mode=\"w\")"
   ]
  },
  {
   "cell_type": "markdown",
   "metadata": {},
   "source": [
    "We instantiate a client generator function.\n"
   ]
  },
  {
   "cell_type": "code",
   "execution_count": 212,
   "metadata": {
    "id": "pm6IBCqGqgHD"
   },
   "outputs": [],
   "source": [
    "lda_flower_client_generator: Callable[[str], FlowerClient] = (\n",
    "    get_flower_client_generator(\n",
    "        model_generator=network_generator_cnn,\n",
    "        data_dir=data_dir,\n",
    "        partition_dir=lda_partition,\n",
    "    )\n",
    ")"
   ]
  },
  {
   "cell_type": "markdown",
   "metadata": {},
   "source": [
    "We can also plot two clients' labels distributions to see how different they are.\n"
   ]
  },
  {
   "cell_type": "code",
   "execution_count": 213,
   "metadata": {
    "id": "EGf3J7SytbIc"
   },
   "outputs": [
    {
     "name": "stderr",
     "output_type": "stream",
     "text": [
      "INFO flwr 2025-02-17 11:42:14,380 | client.py:51 | Creating client with cid: 0\n",
      "INFO flwr 2025-02-17 11:42:14,418 | client.py:51 | Creating client with cid: 1\n"
     ]
    },
    {
     "data": {
      "text/plain": [
       "<matplotlib.legend.Legend at 0x7ddec893b040>"
      ]
     },
     "execution_count": 213,
     "metadata": {},
     "output_type": "execute_result"
    },
    {
     "data": {
      "image/png": "[encoded data removed]",
      "text/plain": [
       "<Figure size 640x480 with 1 Axes>"
      ]
     },
     "metadata": {},
     "output_type": "display_data"
    }
   ],
   "source": [
    "N_CLASSES = 62\n",
    "plt.hist(\n",
    "    [\n",
    "        int(x[1])\n",
    "        for x in lda_flower_client_generator(str(0))._load_dataset(\"train\").data\n",
    "    ],\n",
    "    bins=N_CLASSES,\n",
    "    color=\"blue\",\n",
    "    alpha=0.7,\n",
    "    label=\"client 0 train set\",\n",
    ")\n",
    "plt.hist(\n",
    "    [\n",
    "        int(x[1])\n",
    "        for x in lda_flower_client_generator(str(1))._load_dataset(\"train\").data\n",
    "    ],\n",
    "    bins=N_CLASSES,\n",
    "    color=\"orange\",\n",
    "    alpha=0.7,\n",
    "    label=\"client 1 train set\",\n",
    ")\n",
    "plt.legend()"
   ]
  },
  {
   "cell_type": "markdown",
   "metadata": {},
   "source": [
    "We try now to run an FL simulation is such challenging setting.\n"
   ]
  },
  {
   "cell_type": "code",
   "execution_count": 214,
   "metadata": {
    "id": "JWbg6Ty6s7c0"
   },
   "outputs": [],
   "source": [
    "train_config: dict[str, Any] = {\n",
    "    \"epochs\": 1,\n",
    "    \"batch_size\": 32,\n",
    "    \"client_learning_rate\": 0.01,\n",
    "    \"weight_decay\": 0.001,\n",
    "    \"num_workers\": 0,\n",
    "    \"max_batches\": None,\n",
    "}\n",
    "\n",
    "\n",
    "def _on_fit_config_fn(server_round: int) -> dict[str, Scalar]:\n",
    "    \"\"\"\n",
    "    Generate the training configuration for a given server round.\n",
    "\n",
    "    This function updates the global training configuration with the current server\n",
    "    round and returns the updated configuration.\n",
    "\n",
    "    Parameters\n",
    "    ----------\n",
    "    server_round : int\n",
    "        The current round of training on the server.\n",
    "\n",
    "    Returns\n",
    "    -------\n",
    "    dict[str, Scalar]\n",
    "        The updated training configuration dictionary.\n",
    "    \"\"\"\n",
    "    train_config.update({\"server_round\": server_round})\n",
    "    return train_config\n",
    "\n",
    "\n",
    "num_total_clients = N_TOTAL_CLIENTS\n",
    "num_clients_per_round: int = 5\n",
    "num_evaluate_clients: int = 0\n",
    "\n",
    "strategy = FedAvg(\n",
    "    fraction_fit=sys.float_info.min,\n",
    "    fraction_evaluate=sys.float_info.min,\n",
    "    min_fit_clients=num_clients_per_round,\n",
    "    min_evaluate_clients=num_evaluate_clients,\n",
    "    min_available_clients=max(num_clients_per_round, num_evaluate_clients),\n",
    "    on_fit_config_fn=_on_fit_config_fn,\n",
    "    on_evaluate_config_fn=None,\n",
    "    evaluate_fn=federated_evaluation_function,\n",
    "    initial_parameters=initial_parameters,\n",
    "    accept_failures=False,\n",
    "    fit_metrics_aggregation_fn=aggregate_weighted_average,\n",
    "    evaluate_metrics_aggregation_fn=aggregate_weighted_average,\n",
    ")"
   ]
  },
  {
   "cell_type": "code",
   "execution_count": 215,
   "metadata": {
    "id": "7PscXeuI6Dpo"
   },
   "outputs": [
    {
     "name": "stderr",
     "output_type": "stream",
     "text": [
      "INFO flwr 2025-02-17 11:42:30,697 | app.py:149 | Starting Flower simulation, config: ServerConfig(num_rounds=5, round_timeout=None)\n",
      "INFO flwr 2025-02-17 11:42:30,702 | server_returns_parameters.py:81 | Initializing global parameters\n",
      "INFO flwr 2025-02-17 11:42:30,703 | server_returns_parameters.py:273 | Using initial parameters provided by strategy\n",
      "INFO flwr 2025-02-17 11:42:30,704 | server_returns_parameters.py:84 | Evaluating initial parameters\n",
      "100%|██████████| 47/47 [00:00<00:00, 203.73it/s]\n",
      "INFO flwr 2025-02-17 11:42:30,942 | server_returns_parameters.py:87 | initial parameters (loss, other metrics): 58.9051810503006, {'accuracy': 0.5913333333333334}\n",
      "INFO flwr 2025-02-17 11:42:30,942 | server_returns_parameters.py:97 | FL starting\n",
      "DEBUG flwr 2025-02-17 11:42:30,943 | server_returns_parameters.py:223 | fit_round 1: strategy sampled 5 clients (out of 1000)\n",
      "INFO flwr 2025-02-17 11:42:30,943 | client.py:51 | Creating client with cid: 632\n",
      "INFO flwr 2025-02-17 11:42:30,943 | client.py:51 | Creating client with cid: 947\n",
      "INFO flwr 2025-02-17 11:42:30,944 | client.py:51 | Creating client with cid: 546\n",
      "INFO flwr 2025-02-17 11:42:30,944 | client.py:51 | Creating client with cid: 726\n",
      "INFO flwr 2025-02-17 11:42:30,946 | client.py:51 | Creating client with cid: 374\n",
      "DEBUG flwr 2025-02-17 11:42:32,225 | server_returns_parameters.py:237 | fit_round 1 received 5 results and 0 failures\n",
      "100%|██████████| 47/47 [00:00<00:00, 188.30it/s]\n",
      "INFO flwr 2025-02-17 11:42:32,482 | server_returns_parameters.py:120 | fit progress: (1, 65.8721051812172, {'accuracy': 0.682}, 1.5394209009973565)\n",
      "INFO flwr 2025-02-17 11:42:32,482 | server_returns_parameters.py:171 | evaluate_round 1: no clients selected, cancel\n",
      "DEBUG flwr 2025-02-17 11:42:32,483 | server_returns_parameters.py:223 | fit_round 2: strategy sampled 5 clients (out of 1000)\n",
      "INFO flwr 2025-02-17 11:42:32,483 | client.py:51 | Creating client with cid: 584\n",
      "INFO flwr 2025-02-17 11:42:32,484 | client.py:51 | Creating client with cid: 599\n",
      "INFO flwr 2025-02-17 11:42:32,485 | client.py:51 | Creating client with cid: 749\n",
      "INFO flwr 2025-02-17 11:42:32,486 | client.py:51 | Creating client with cid: 169\n",
      "INFO flwr 2025-02-17 11:42:32,488 | client.py:51 | Creating client with cid: 793\n",
      "DEBUG flwr 2025-02-17 11:42:33,673 | server_returns_parameters.py:237 | fit_round 2 received 5 results and 0 failures\n",
      "100%|██████████| 47/47 [00:00<00:00, 191.00it/s]\n",
      "INFO flwr 2025-02-17 11:42:33,927 | server_returns_parameters.py:120 | fit progress: (2, 68.5265702009201, {'accuracy': 0.676}, 2.9843699150005705)\n",
      "INFO flwr 2025-02-17 11:42:33,927 | server_returns_parameters.py:171 | evaluate_round 2: no clients selected, cancel\n",
      "DEBUG flwr 2025-02-17 11:42:33,927 | server_returns_parameters.py:223 | fit_round 3: strategy sampled 5 clients (out of 1000)\n",
      "INFO flwr 2025-02-17 11:42:33,928 | client.py:51 | Creating client with cid: 844\n",
      "INFO flwr 2025-02-17 11:42:33,928 | client.py:51 | Creating client with cid: 340\n",
      "INFO flwr 2025-02-17 11:42:33,929 | client.py:51 | Creating client with cid: 392\n",
      "INFO flwr 2025-02-17 11:42:33,930 | client.py:51 | Creating client with cid: 650\n",
      "INFO flwr 2025-02-17 11:42:33,931 | client.py:51 | Creating client with cid: 808\n",
      "DEBUG flwr 2025-02-17 11:42:35,034 | server_returns_parameters.py:237 | fit_round 3 received 5 results and 0 failures\n",
      "100%|██████████| 47/47 [00:00<00:00, 197.93it/s]\n",
      "INFO flwr 2025-02-17 11:42:35,277 | server_returns_parameters.py:120 | fit progress: (3, 76.35797184705734, {'accuracy': 0.6693333333333333}, 4.334542649994546)\n",
      "INFO flwr 2025-02-17 11:42:35,277 | server_returns_parameters.py:171 | evaluate_round 3: no clients selected, cancel\n",
      "DEBUG flwr 2025-02-17 11:42:35,278 | server_returns_parameters.py:223 | fit_round 4: strategy sampled 5 clients (out of 1000)\n",
      "INFO flwr 2025-02-17 11:42:35,278 | client.py:51 | Creating client with cid: 368\n",
      "INFO flwr 2025-02-17 11:42:35,279 | client.py:51 | Creating client with cid: 943\n",
      "INFO flwr 2025-02-17 11:42:35,281 | client.py:51 | Creating client with cid: 315\n",
      "INFO flwr 2025-02-17 11:42:35,281 | client.py:51 | Creating client with cid: 400\n",
      "INFO flwr 2025-02-17 11:42:35,283 | client.py:51 | Creating client with cid: 713\n",
      "DEBUG flwr 2025-02-17 11:42:36,408 | server_returns_parameters.py:237 | fit_round 4 received 5 results and 0 failures\n",
      "100%|██████████| 47/47 [00:00<00:00, 185.23it/s]\n",
      "INFO flwr 2025-02-17 11:42:36,668 | server_returns_parameters.py:120 | fit progress: (4, 79.28481239080429, {'accuracy': 0.692}, 5.7254026559967315)\n",
      "INFO flwr 2025-02-17 11:42:36,668 | server_returns_parameters.py:171 | evaluate_round 4: no clients selected, cancel\n",
      "DEBUG flwr 2025-02-17 11:42:36,670 | server_returns_parameters.py:223 | fit_round 5: strategy sampled 5 clients (out of 1000)\n",
      "INFO flwr 2025-02-17 11:42:36,671 | client.py:51 | Creating client with cid: 209\n",
      "INFO flwr 2025-02-17 11:42:36,671 | client.py:51 | Creating client with cid: 779\n",
      "INFO flwr 2025-02-17 11:42:36,673 | client.py:51 | Creating client with cid: 672\n",
      "INFO flwr 2025-02-17 11:42:36,673 | client.py:51 | Creating client with cid: 884\n",
      "INFO flwr 2025-02-17 11:42:36,674 | client.py:51 | Creating client with cid: 934\n",
      "DEBUG flwr 2025-02-17 11:42:37,810 | server_returns_parameters.py:237 | fit_round 5 received 5 results and 0 failures\n",
      "100%|██████████| 47/47 [00:00<00:00, 200.92it/s]\n",
      "INFO flwr 2025-02-17 11:42:38,050 | server_returns_parameters.py:120 | fit progress: (5, 83.40701353549957, {'accuracy': 0.6786666666666666}, 7.1080186139952275)\n",
      "INFO flwr 2025-02-17 11:42:38,051 | server_returns_parameters.py:171 | evaluate_round 5: no clients selected, cancel\n",
      "INFO flwr 2025-02-17 11:42:38,051 | server_returns_parameters.py:150 | FL finished in 7.108852667995961\n",
      "INFO flwr 2025-02-17 11:42:38,051 | app.py:250 | app_fit: losses_distributed []\n",
      "INFO flwr 2025-02-17 11:42:38,052 | app.py:251 | app_fit: metrics_distributed_fit {'train_loss': [(1, {'avg': 0.024651589281857015, 'all': [(20, 0.021946811908856036), (20, 0.034389473218470815), (20, 0.016473450185731053), (20, 0.022634285409003495), (20, 0.027813925687223674)]}), (2, {'avg': 0.03265387210296467, 'all': [(20, 0.022750974725931884), (20, 0.01918759965337813), (20, 0.018212828238029034), (20, 0.026744972728192807), (20, 0.0763729851692915)]}), (3, {'avg': 0.02480082254856825, 'all': [(20, 0.014389236434362828), (20, 0.03729684790596366), (20, 0.017480785306543112), (20, 0.011581735895015299), (20, 0.04325550720095635)]}), (4, {'avg': 0.029225761579582468, 'all': [(20, 0.033755953144282105), (20, 0.03618222596123814), (20, 0.010819312260719017), (20, 0.01628114269115031), (20, 0.04909017384052276)]}), (5, {'avg': 0.02940189592423849, 'all': [(20, 0.018931718496605753), (20, 0.010051254555583), (20, 0.09317177794873714), (20, 0.010972971323644743), (20, 0.0138817572966218)]})]}\n",
      "INFO flwr 2025-02-17 11:42:38,052 | app.py:252 | app_fit: metrics_distributed {}\n",
      "INFO flwr 2025-02-17 11:42:38,052 | app.py:253 | app_fit: losses_centralized [(0, 58.9051810503006), (1, 65.8721051812172), (2, 68.5265702009201), (3, 76.35797184705734), (4, 79.28481239080429), (5, 83.40701353549957)]\n",
      "INFO flwr 2025-02-17 11:42:38,053 | app.py:254 | app_fit: metrics_centralized {'accuracy': [(0, 0.5913333333333334), (1, 0.682), (2, 0.676), (3, 0.6693333333333333), (4, 0.692), (5, 0.6786666666666666)]}\n"
     ]
    }
   ],
   "source": [
    "params, hist = start_seeded_simulation(\n",
    "    client_fn=lambda cid: lda_flower_client_generator(cid).to_client(),\n",
    "    num_clients=num_total_clients,\n",
    "    config=ServerConfig(num_rounds=5),\n",
    "    strategy=strategy,\n",
    "    name=\"fedavg_lda_example\",\n",
    ")"
   ]
  },
  {
   "cell_type": "markdown",
   "metadata": {},
   "source": [
    "---\n",
    "\n",
    "**Question 4 (Part II ✅):**\n",
    "\n",
    "(You need to provide the answer with **code** and **plots** for this question. A short written argumentation is recommended.)\n",
    "\n",
    "1. Produce a set of LDA partitions with `concentration` in `[0.001, 0.1, 1e3]`.\n",
    "2. Train an FL setting for every partition you have produced using the same hyperparameter we used in the cell above, but with `num_clients_per_round=62` and `ServerConfig(num_rounds=1)`.\n",
    "3. Why do you think one-shot averaging works well for full i.i.d. data and not for very heterogeneous clients?\n",
    "\n",
    "---\n"
   ]
  },
  {
   "cell_type": "markdown",
   "metadata": {},
   "source": [
    "Use the configuration provided by the following cell.\n",
    "\n",
    "> **IMPORTANT**: Be careful when using the strategy object. You must ensure that the different experiments will use the same initial parameters. Inspect `flwr.server.strategy.FedAvg` to understand how these are used.\n"
   ]
  },
  {
   "cell_type": "code",
   "execution_count": 217,
   "metadata": {},
   "outputs": [],
   "source": [
    "# Create all the LDA partitions \n",
    "\n",
    "N_TOTAL_CLIENTS = 1_000\n",
    "concentrations = [0.001, 0.1, 1e3]\n",
    "\n",
    "for concentration in concentrations:\n",
    "    # Create partitions\n",
    "    x = np.array([x[0] for x in centralized_train_dataset.data])\n",
    "    y = np.array([x[1] for x in centralized_train_dataset.data])\n",
    "    train_clients_partitions, dist = create_lda_partitions(\n",
    "        dataset=(x, y),\n",
    "        dirichlet_dist=None,\n",
    "        num_partitions=N_TOTAL_CLIENTS,\n",
    "        concentration=concentration,\n",
    "        accept_imbalanced=True,\n",
    "        seed=Seeds.DEFAULT,\n",
    "    )\n",
    "    x = np.array([x[0] for x in centralized_test_dataset.data])\n",
    "    y = np.array([x[1] for x in centralized_test_dataset.data])\n",
    "    test_clients_partitions, dist = create_lda_partitions(\n",
    "        dataset=(x, y),\n",
    "        dirichlet_dist=dist,\n",
    "        num_partitions=N_TOTAL_CLIENTS,\n",
    "        concentration=concentration,\n",
    "        accept_imbalanced=True,\n",
    "        seed=Seeds.DEFAULT,\n",
    "    )\n",
    "\n",
    "    lda_partition: Path = dataset_dir / \"client_data_mappings\" / f\"lda-{concentration}\"\n",
    "    if lda_partition.exists():\n",
    "        shutil.rmtree(str(lda_partition))\n",
    "    lda_partition.mkdir(parents=True, exist_ok=True)\n",
    "\n",
    "    for i, (train_set, test_set) in enumerate(\n",
    "        zip(train_clients_partitions, test_clients_partitions, strict=True)\n",
    "    ):\n",
    "        folder_path: Path = lda_partition / str(i)\n",
    "        folder_path.mkdir(parents=True, exist_ok=True)\n",
    "\n",
    "        train_path: Path = folder_path / \"train.csv\"\n",
    "        test_path: Path = folder_path / \"test.csv\"\n",
    "\n",
    "        pd.DataFrame({\n",
    "            \"client_id\": [0] * len(train_set[0]),\n",
    "            \"sample_path\": train_set[0],\n",
    "            \"sample_id\": range(len(train_set[0])),\n",
    "            \"label\": train_set[1],\n",
    "        }).to_csv(train_path, index=False, mode=\"w\")\n",
    "        pd.DataFrame({\n",
    "            \"client_id\": [0] * len(test_set[0]),\n",
    "            \"sample_path\": test_set[0],\n",
    "            \"sample_id\": range(len(test_set[0])),\n",
    "            \"label\": test_set[1],\n",
    "        }).to_csv(test_path, index=False, mode=\"w\")"
   ]
  },
  {
   "cell_type": "code",
   "execution_count": 216,
   "metadata": {},
   "outputs": [],
   "source": [
    "# NOTE: We are using randomly initialized parameters here.\n",
    "torch.manual_seed(Seeds.DEFAULT)\n",
    "network_generator_cnn = get_network_generator_cnn()\n",
    "seed_net_cnn = network_generator_cnn()\n",
    "q4_initial_parameters: Parameters = ndarrays_to_parameters(\n",
    "    get_model_parameters(seed_net_cnn)\n",
    ")\n",
    "# Set up experiment configuration\n",
    "N_TOTAL_CLIENTS = 100\n",
    "N_TOTAL_ROUNDS = 1\n",
    "train_config: dict[str, Any] = {\n",
    "    \"epochs\": 1,\n",
    "    \"batch_size\": 32,\n",
    "    \"client_learning_rate\": 0.001,\n",
    "    \"weight_decay\": 0.001,\n",
    "    \"num_workers\": 0,\n",
    "    \"max_batches\": None,\n",
    "}\n",
    "\n",
    "\n",
    "def _on_fit_config_fn(server_round: int) -> dict[str, Scalar]:\n",
    "    \"\"\"\n",
    "    Generate the training configuration for a given server round.\n",
    "\n",
    "    This function updates the global training configuration with the current server\n",
    "    round and returns the updated configuration.\n",
    "\n",
    "    Parameters\n",
    "    ----------\n",
    "    server_round : int\n",
    "        The current round of training on the server.\n",
    "\n",
    "    Returns\n",
    "    -------\n",
    "    dict[str, Scalar]\n",
    "        The updated training configuration dictionary.\n",
    "    \"\"\"\n",
    "    train_config.update({\"server_round\": server_round})\n",
    "    return train_config\n",
    "\n",
    "\n",
    "num_total_clients = N_TOTAL_CLIENTS\n",
    "num_clients_per_round: int = 62\n",
    "num_evaluate_clients: int = 0\n",
    "fraction_fit: float = float(num_clients_per_round) / num_total_clients\n",
    "fraction_evaluate: float = float(num_evaluate_clients) / num_total_clients\n",
    "# Set up strategy\n",
    "strategy = FedAvg(\n",
    "    fraction_fit=sys.float_info.min,\n",
    "    fraction_evaluate=sys.float_info.min,\n",
    "    min_fit_clients=num_clients_per_round,\n",
    "    min_evaluate_clients=num_evaluate_clients,\n",
    "    min_available_clients=max(num_clients_per_round, num_evaluate_clients),\n",
    "    on_fit_config_fn=_on_fit_config_fn,\n",
    "    on_evaluate_config_fn=None,\n",
    "    evaluate_fn=federated_evaluation_function,\n",
    "    initial_parameters=q4_initial_parameters,\n",
    "    accept_failures=False,\n",
    "    fit_metrics_aggregation_fn=aggregate_weighted_average,\n",
    "    evaluate_metrics_aggregation_fn=aggregate_weighted_average,\n",
    ")"
   ]
  },
  {
   "cell_type": "code",
   "execution_count": 219,
   "metadata": {},
   "outputs": [
    {
     "name": "stderr",
     "output_type": "stream",
     "text": [
      "INFO flwr 2025-02-17 12:06:37,346 | app.py:149 | Starting Flower simulation, config: ServerConfig(num_rounds=1, round_timeout=None)\n",
      "INFO flwr 2025-02-17 12:06:37,349 | server_returns_parameters.py:81 | Initializing global parameters\n",
      "INFO flwr 2025-02-17 12:06:37,351 | server_returns_parameters.py:273 | Using initial parameters provided by strategy\n",
      "INFO flwr 2025-02-17 12:06:37,354 | server_returns_parameters.py:84 | Evaluating initial parameters\n",
      "100%|██████████| 47/47 [00:00<00:00, 188.44it/s]\n",
      "INFO flwr 2025-02-17 12:06:37,609 | server_returns_parameters.py:87 | initial parameters (loss, other metrics): 194.37576389312744, {'accuracy': 0.004}\n",
      "INFO flwr 2025-02-17 12:06:37,609 | server_returns_parameters.py:97 | FL starting\n",
      "DEBUG flwr 2025-02-17 12:06:37,610 | server_returns_parameters.py:223 | fit_round 1: strategy sampled 62 clients (out of 100)\n",
      "INFO flwr 2025-02-17 12:06:37,611 | client.py:51 | Creating client with cid: 79\n",
      "INFO flwr 2025-02-17 12:06:37,611 | client.py:51 | Creating client with cid: 68\n",
      "INFO flwr 2025-02-17 12:06:37,612 | client.py:51 | Creating client with cid: 90\n",
      "INFO flwr 2025-02-17 12:06:37,612 | client.py:51 | Creating client with cid: 46\n",
      "INFO flwr 2025-02-17 12:06:37,613 | client.py:51 | Creating client with cid: 73\n",
      "INFO flwr 2025-02-17 12:06:37,613 | client.py:51 | Creating client with cid: 74\n",
      "INFO flwr 2025-02-17 12:06:37,614 | client.py:51 | Creating client with cid: 93\n",
      "INFO flwr 2025-02-17 12:06:37,617 | client.py:51 | Creating client with cid: 21\n",
      "INFO flwr 2025-02-17 12:06:37,627 | client.py:51 | Creating client with cid: 42\n",
      "INFO flwr 2025-02-17 12:06:37,629 | client.py:51 | Creating client with cid: 49\n",
      "INFO flwr 2025-02-17 12:06:37,634 | client.py:51 | Creating client with cid: 81\n",
      "INFO flwr 2025-02-17 12:06:37,635 | client.py:51 | Creating client with cid: 96\n",
      "INFO flwr 2025-02-17 12:06:37,637 | client.py:51 | Creating client with cid: 39\n",
      "INFO flwr 2025-02-17 12:06:37,642 | client.py:51 | Creating client with cid: 50\n",
      "INFO flwr 2025-02-17 12:06:37,644 | client.py:51 | Creating client with cid: 26\n",
      "INFO flwr 2025-02-17 12:06:37,645 | client.py:51 | Creating client with cid: 84\n",
      "INFO flwr 2025-02-17 12:06:37,646 | client.py:51 | Creating client with cid: 88\n",
      "INFO flwr 2025-02-17 12:06:37,648 | client.py:51 | Creating client with cid: 13\n",
      "INFO flwr 2025-02-17 12:06:37,649 | client.py:51 | Creating client with cid: 54\n",
      "INFO flwr 2025-02-17 12:06:37,661 | client.py:51 | Creating client with cid: 51\n",
      "INFO flwr 2025-02-17 12:06:37,666 | client.py:51 | Creating client with cid: 8\n",
      "INFO flwr 2025-02-17 12:06:37,667 | client.py:51 | Creating client with cid: 64\n",
      "INFO flwr 2025-02-17 12:06:37,672 | client.py:51 | Creating client with cid: 44\n",
      "INFO flwr 2025-02-17 12:06:37,674 | client.py:51 | Creating client with cid: 80\n",
      "INFO flwr 2025-02-17 12:06:37,677 | client.py:51 | Creating client with cid: 76\n",
      "INFO flwr 2025-02-17 12:06:37,680 | client.py:51 | Creating client with cid: 87\n",
      "INFO flwr 2025-02-17 12:06:45,343 | client.py:51 | Creating client with cid: 2\n",
      "INFO flwr 2025-02-17 12:06:45,670 | client.py:51 | Creating client with cid: 45\n",
      "INFO flwr 2025-02-17 12:06:45,747 | client.py:51 | Creating client with cid: 15\n",
      "INFO flwr 2025-02-17 12:06:45,774 | client.py:51 | Creating client with cid: 58\n",
      "INFO flwr 2025-02-17 12:06:45,805 | client.py:51 | Creating client with cid: 31\n",
      "INFO flwr 2025-02-17 12:06:45,828 | client.py:51 | Creating client with cid: 92\n",
      "INFO flwr 2025-02-17 12:06:45,835 | client.py:51 | Creating client with cid: 40\n",
      "INFO flwr 2025-02-17 12:06:45,844 | client.py:51 | Creating client with cid: 70\n",
      "INFO flwr 2025-02-17 12:06:45,848 | client.py:51 | Creating client with cid: 33\n",
      "INFO flwr 2025-02-17 12:06:45,880 | client.py:51 | Creating client with cid: 25\n",
      "INFO flwr 2025-02-17 12:06:45,881 | client.py:51 | Creating client with cid: 99\n",
      "INFO flwr 2025-02-17 12:06:45,884 | client.py:51 | Creating client with cid: 67\n",
      "INFO flwr 2025-02-17 12:06:45,885 | client.py:51 | Creating client with cid: 65\n",
      "INFO flwr 2025-02-17 12:06:45,890 | client.py:51 | Creating client with cid: 94\n",
      "INFO flwr 2025-02-17 12:06:45,892 | client.py:51 | Creating client with cid: 36\n",
      "INFO flwr 2025-02-17 12:06:45,900 | client.py:51 | Creating client with cid: 97\n",
      "INFO flwr 2025-02-17 12:06:45,920 | client.py:51 | Creating client with cid: 95\n",
      "INFO flwr 2025-02-17 12:06:45,940 | client.py:51 | Creating client with cid: 4\n",
      "INFO flwr 2025-02-17 12:06:45,969 | client.py:51 | Creating client with cid: 85\n",
      "INFO flwr 2025-02-17 12:06:45,996 | client.py:51 | Creating client with cid: 41\n",
      "INFO flwr 2025-02-17 12:06:46,015 | client.py:51 | Creating client with cid: 60\n",
      "INFO flwr 2025-02-17 12:06:46,026 | client.py:51 | Creating client with cid: 3\n",
      "INFO flwr 2025-02-17 12:06:46,038 | client.py:51 | Creating client with cid: 43\n",
      "INFO flwr 2025-02-17 12:06:46,047 | client.py:51 | Creating client with cid: 1\n",
      "INFO flwr 2025-02-17 12:06:46,059 | client.py:51 | Creating client with cid: 62\n",
      "INFO flwr 2025-02-17 12:06:46,125 | client.py:51 | Creating client with cid: 12\n",
      "INFO flwr 2025-02-17 12:06:52,598 | client.py:51 | Creating client with cid: 48\n",
      "INFO flwr 2025-02-17 12:06:52,878 | client.py:51 | Creating client with cid: 6\n",
      "INFO flwr 2025-02-17 12:06:52,908 | client.py:51 | Creating client with cid: 18\n",
      "INFO flwr 2025-02-17 12:06:52,925 | client.py:51 | Creating client with cid: 47\n",
      "INFO flwr 2025-02-17 12:06:52,937 | client.py:51 | Creating client with cid: 28\n",
      "INFO flwr 2025-02-17 12:06:52,940 | client.py:51 | Creating client with cid: 59\n",
      "INFO flwr 2025-02-17 12:06:52,945 | client.py:51 | Creating client with cid: 20\n",
      "INFO flwr 2025-02-17 12:06:52,995 | client.py:51 | Creating client with cid: 0\n",
      "INFO flwr 2025-02-17 12:06:53,013 | client.py:51 | Creating client with cid: 53\n",
      "INFO flwr 2025-02-17 12:06:53,027 | client.py:51 | Creating client with cid: 98\n",
      "DEBUG flwr 2025-02-17 12:06:55,843 | server_returns_parameters.py:237 | fit_round 1 received 62 results and 0 failures\n",
      "100%|██████████| 47/47 [00:00<00:00, 176.55it/s]\n",
      "INFO flwr 2025-02-17 12:06:56,137 | server_returns_parameters.py:120 | fit progress: (1, 209.6253204345703, {'accuracy': 0.006666666666666667}, 18.527751956004067)\n",
      "INFO flwr 2025-02-17 12:06:56,138 | server_returns_parameters.py:171 | evaluate_round 1: no clients selected, cancel\n",
      "INFO flwr 2025-02-17 12:06:56,138 | server_returns_parameters.py:150 | FL finished in 18.52847820300667\n",
      "INFO flwr 2025-02-17 12:06:56,138 | app.py:250 | app_fit: losses_distributed []\n",
      "INFO flwr 2025-02-17 12:06:56,139 | app.py:251 | app_fit: metrics_distributed_fit {'train_loss': [(1, {'avg': 0.08257994344232224, 'all': [(20, 0.08452714311424643), (20, 0.07481489966849039), (20, 0.08268281284254045), (20, 0.07776415352309414), (20, 0.07858431597051094), (20, 0.09086034194333478), (20, 0.08018850821536035), (20, 0.08507322669029235), (20, 0.08203308689408004), (20, 0.08393284719786606), (20, 0.0852639297983842), (20, 0.08498664241924417), (20, 0.08271370912843849), (20, 0.09072288394672796), (20, 0.08008522197560523), (20, 0.07112505090126434), (20, 0.08702939730137586), (20, 0.08266672714380548), (20, 0.08364993181021418), (20, 0.07762713430602161), (20, 0.08737221658229828), (20, 0.07884318158903625), (20, 0.0714036892832155), (20, 0.08505150669370778), (20, 0.08696340009919368), (20, 0.0865746490424499), (20, 0.07295180439650721), (20, 0.08204478982370347), (20, 0.10310777379199862), (20, 0.08051248618212412), (20, 0.07794809216393332), (20, 0.07781828771949222), (20, 0.07968321116641164), (20, 0.08415022004628554), (20, 0.07366464048391208), (20, 0.07931317297989153), (20, 0.09047481387387961), (20, 0.0824961015372537), (20, 0.08425700674706604), (20, 0.07817246079102916), (20, 0.0770945331081748), (20, 0.086071831965819), (20, 0.09230690877884626), (20, 0.08461891719489359), (20, 0.08550129288632888), (20, 0.09521012054756284), (20, 0.0810787312220782), (20, 0.08320176523993723), (20, 0.08523952339310199), (20, 0.08309838186396519), (20, 0.07831646251179336), (20, 0.08513559089042247), (20, 0.07821634530482698), (20, 0.07408060185171053), (20, 0.08304534351918846), (20, 0.07702725024864776), (20, 0.07932823963565169), (20, 0.10132866110652686), (20, 0.08140441030918737), (20, 0.07726621405381592), (20, 0.08345660165068694), (20, 0.07879329635652539)]})]}\n",
      "INFO flwr 2025-02-17 12:06:56,139 | app.py:252 | app_fit: metrics_distributed {}\n",
      "INFO flwr 2025-02-17 12:06:56,139 | app.py:253 | app_fit: losses_centralized [(0, 194.37576389312744), (1, 209.6253204345703)]\n",
      "INFO flwr 2025-02-17 12:06:56,139 | app.py:254 | app_fit: metrics_centralized {'accuracy': [(0, 0.004), (1, 0.006666666666666667)]}\n"
     ]
    }
   ],
   "source": [
    "lda_flower_client_generator: Callable[[str], FlowerClient] = (\n",
    "    get_flower_client_generator(\n",
    "        model_generator=network_generator_cnn,\n",
    "        data_dir=data_dir,\n",
    "        partition_dir=dataset_dir / \"client_data_mappings\" / \"lda-0.001\",\n",
    "    )\n",
    ")\n",
    "\n",
    "params, hist = start_seeded_simulation(\n",
    "    client_fn=lambda cid: lda_flower_client_generator(cid).to_client(),\n",
    "    num_clients=num_total_clients,\n",
    "    config=ServerConfig(num_rounds=1),\n",
    "    strategy=strategy,\n",
    "    name=\"fedavg_lda_example\",\n",
    ")"
   ]
  },
  {
   "cell_type": "code",
   "execution_count": 224,
   "metadata": {},
   "outputs": [
    {
     "name": "stderr",
     "output_type": "stream",
     "text": [
      "INFO flwr 2025-02-17 12:09:10,659 | app.py:149 | Starting Flower simulation, config: ServerConfig(num_rounds=1, round_timeout=None)\n",
      "INFO flwr 2025-02-17 12:09:10,662 | server_returns_parameters.py:81 | Initializing global parameters\n",
      "INFO flwr 2025-02-17 12:09:10,663 | server_returns_parameters.py:277 | Requesting initial parameters from one random client\n",
      "INFO flwr 2025-02-17 12:09:10,664 | client.py:51 | Creating client with cid: 79\n",
      "INFO flwr 2025-02-17 12:09:10,666 | server_returns_parameters.py:281 | Received initial parameters from one random client\n",
      "INFO flwr 2025-02-17 12:09:10,668 | server_returns_parameters.py:84 | Evaluating initial parameters\n",
      "100%|██████████| 47/47 [00:00<00:00, 115.02it/s]\n",
      "INFO flwr 2025-02-17 12:09:11,081 | server_returns_parameters.py:87 | initial parameters (loss, other metrics): 194.37576389312744, {'accuracy': 0.004}\n",
      "INFO flwr 2025-02-17 12:09:11,082 | server_returns_parameters.py:97 | FL starting\n",
      "DEBUG flwr 2025-02-17 12:09:11,084 | server_returns_parameters.py:223 | fit_round 1: strategy sampled 62 clients (out of 100)\n",
      "INFO flwr 2025-02-17 12:09:11,085 | client.py:51 | Creating client with cid: 68\n",
      "INFO flwr 2025-02-17 12:09:11,088 | client.py:51 | Creating client with cid: 90\n",
      "INFO flwr 2025-02-17 12:09:11,090 | client.py:51 | Creating client with cid: 46\n",
      "INFO flwr 2025-02-17 12:09:11,094 | client.py:51 | Creating client with cid: 73\n",
      "INFO flwr 2025-02-17 12:09:11,097 | client.py:51 | Creating client with cid: 74\n",
      "INFO flwr 2025-02-17 12:09:11,099 | client.py:51 | Creating client with cid: 93\n",
      "INFO flwr 2025-02-17 12:09:11,100 | client.py:51 | Creating client with cid: 21\n",
      "INFO flwr 2025-02-17 12:09:11,101 | client.py:51 | Creating client with cid: 42\n",
      "INFO flwr 2025-02-17 12:09:11,110 | client.py:51 | Creating client with cid: 49\n",
      "INFO flwr 2025-02-17 12:09:11,112 | client.py:51 | Creating client with cid: 81\n",
      "INFO flwr 2025-02-17 12:09:11,113 | client.py:51 | Creating client with cid: 97\n",
      "INFO flwr 2025-02-17 12:09:11,114 | client.py:51 | Creating client with cid: 39\n",
      "INFO flwr 2025-02-17 12:09:11,117 | client.py:51 | Creating client with cid: 50\n",
      "INFO flwr 2025-02-17 12:09:11,122 | client.py:51 | Creating client with cid: 26\n",
      "INFO flwr 2025-02-17 12:09:11,124 | client.py:51 | Creating client with cid: 84\n",
      "INFO flwr 2025-02-17 12:09:11,124 | client.py:51 | Creating client with cid: 89\n",
      "INFO flwr 2025-02-17 12:09:11,125 | client.py:51 | Creating client with cid: 13\n",
      "INFO flwr 2025-02-17 12:09:11,126 | client.py:51 | Creating client with cid: 54\n",
      "INFO flwr 2025-02-17 12:09:11,127 | client.py:51 | Creating client with cid: 98\n",
      "INFO flwr 2025-02-17 12:09:11,129 | client.py:51 | Creating client with cid: 51\n",
      "INFO flwr 2025-02-17 12:09:11,130 | client.py:51 | Creating client with cid: 8\n",
      "INFO flwr 2025-02-17 12:09:11,131 | client.py:51 | Creating client with cid: 64\n",
      "INFO flwr 2025-02-17 12:09:11,132 | client.py:51 | Creating client with cid: 44\n",
      "INFO flwr 2025-02-17 12:09:11,134 | client.py:51 | Creating client with cid: 80\n",
      "INFO flwr 2025-02-17 12:09:11,139 | client.py:51 | Creating client with cid: 76\n",
      "INFO flwr 2025-02-17 12:09:11,140 | client.py:51 | Creating client with cid: 88\n",
      "INFO flwr 2025-02-17 12:09:18,889 | client.py:51 | Creating client with cid: 2\n",
      "INFO flwr 2025-02-17 12:09:18,902 | client.py:51 | Creating client with cid: 45\n",
      "INFO flwr 2025-02-17 12:09:18,928 | client.py:51 | Creating client with cid: 15\n",
      "INFO flwr 2025-02-17 12:09:18,950 | client.py:51 | Creating client with cid: 58\n",
      "INFO flwr 2025-02-17 12:09:18,995 | client.py:51 | Creating client with cid: 31\n",
      "INFO flwr 2025-02-17 12:09:18,997 | client.py:51 | Creating client with cid: 94\n",
      "INFO flwr 2025-02-17 12:09:19,002 | client.py:51 | Creating client with cid: 40\n",
      "INFO flwr 2025-02-17 12:09:19,005 | client.py:51 | Creating client with cid: 70\n",
      "INFO flwr 2025-02-17 12:09:19,022 | client.py:51 | Creating client with cid: 33\n",
      "INFO flwr 2025-02-17 12:09:19,031 | client.py:51 | Creating client with cid: 25\n",
      "INFO flwr 2025-02-17 12:09:19,034 | client.py:51 | Creating client with cid: 79\n",
      "INFO flwr 2025-02-17 12:09:19,039 | client.py:51 | Creating client with cid: 67\n",
      "INFO flwr 2025-02-17 12:09:19,049 | client.py:51 | Creating client with cid: 65\n",
      "INFO flwr 2025-02-17 12:09:19,074 | client.py:51 | Creating client with cid: 95\n",
      "INFO flwr 2025-02-17 12:09:19,091 | client.py:51 | Creating client with cid: 36\n",
      "INFO flwr 2025-02-17 12:09:19,118 | client.py:51 | Creating client with cid: 91\n",
      "INFO flwr 2025-02-17 12:09:19,134 | client.py:51 | Creating client with cid: 96\n",
      "INFO flwr 2025-02-17 12:09:19,142 | client.py:51 | Creating client with cid: 4\n",
      "INFO flwr 2025-02-17 12:09:19,172 | client.py:51 | Creating client with cid: 86\n",
      "INFO flwr 2025-02-17 12:09:19,184 | client.py:51 | Creating client with cid: 41\n",
      "INFO flwr 2025-02-17 12:09:19,212 | client.py:51 | Creating client with cid: 60\n",
      "INFO flwr 2025-02-17 12:09:19,231 | client.py:51 | Creating client with cid: 3\n",
      "INFO flwr 2025-02-17 12:09:19,244 | client.py:51 | Creating client with cid: 43\n",
      "INFO flwr 2025-02-17 12:09:19,251 | client.py:51 | Creating client with cid: 1\n",
      "INFO flwr 2025-02-17 12:09:19,331 | client.py:51 | Creating client with cid: 62\n",
      "INFO flwr 2025-02-17 12:09:19,341 | client.py:51 | Creating client with cid: 12\n",
      "INFO flwr 2025-02-17 12:09:26,338 | client.py:51 | Creating client with cid: 48\n",
      "INFO flwr 2025-02-17 12:09:26,362 | client.py:51 | Creating client with cid: 6\n",
      "INFO flwr 2025-02-17 12:09:26,423 | client.py:51 | Creating client with cid: 18\n",
      "INFO flwr 2025-02-17 12:09:26,447 | client.py:51 | Creating client with cid: 47\n",
      "INFO flwr 2025-02-17 12:09:26,449 | client.py:51 | Creating client with cid: 28\n",
      "INFO flwr 2025-02-17 12:09:26,498 | client.py:51 | Creating client with cid: 59\n",
      "INFO flwr 2025-02-17 12:09:26,505 | client.py:51 | Creating client with cid: 20\n",
      "INFO flwr 2025-02-17 12:09:26,518 | client.py:51 | Creating client with cid: 0\n",
      "INFO flwr 2025-02-17 12:09:26,520 | client.py:51 | Creating client with cid: 53\n",
      "INFO flwr 2025-02-17 12:09:26,561 | client.py:51 | Creating client with cid: 99\n",
      "DEBUG flwr 2025-02-17 12:09:29,426 | server_returns_parameters.py:237 | fit_round 1 received 62 results and 0 failures\n",
      "100%|██████████| 47/47 [00:00<00:00, 200.02it/s]\n",
      "INFO flwr 2025-02-17 12:09:29,689 | server_returns_parameters.py:120 | fit progress: (1, 206.65953731536865, {'accuracy': 0.006666666666666667}, 18.606851427000947)\n",
      "INFO flwr 2025-02-17 12:09:29,689 | server_returns_parameters.py:171 | evaluate_round 1: no clients selected, cancel\n",
      "INFO flwr 2025-02-17 12:09:29,690 | server_returns_parameters.py:150 | FL finished in 18.6074913880002\n",
      "INFO flwr 2025-02-17 12:09:29,690 | app.py:250 | app_fit: losses_distributed []\n",
      "INFO flwr 2025-02-17 12:09:29,690 | app.py:251 | app_fit: metrics_distributed_fit {'train_loss': [(1, {'avg': 0.11090632928234916, 'all': [(20, 0.11433585807681083), (20, 0.10666670724749565), (20, 0.12029871046543121), (20, 0.11364803947508335), (20, 0.11339303888380528), (20, 0.11174448654055595), (20, 0.10991536229848861), (20, 0.09558429662138224), (20, 0.10743948146700859), (20, 0.10488448292016983), (20, 0.11528901048004628), (20, 0.10937441289424896), (20, 0.10711554177105427), (20, 0.11289525404572487), (20, 0.10581103898584843), (20, 0.1131095003336668), (20, 0.11460286937654018), (20, 0.11252725459635257), (20, 0.10985754951834678), (20, 0.10811364222317935), (20, 0.11136762648820878), (20, 0.10988598316907883), (20, 0.11414443328976631), (20, 0.10873629935085774), (20, 0.11660695299506188), (20, 0.11445605643093586), (20, 0.11429101824760438), (20, 0.11036437749862671), (20, 0.11275470778346061), (20, 0.11506887786090374), (20, 0.10599813386797904), (20, 0.1070916086435318), (20, 0.11373573914170265), (20, 0.11081395335495473), (20, 0.1081999022513628), (20, 0.11247604489326476), (20, 0.11054045110940933), (20, 0.10888257995247841), (20, 0.11356611400842667), (20, 0.11384979896247387), (20, 0.10896839983761311), (20, 0.11554927080869674), (20, 0.11019286774098873), (20, 0.11017109230160713), (20, 0.11282024644315243), (20, 0.1174745012074709), (20, 0.11216537244617938), (20, 0.11379087157547474), (20, 0.0961666788905859), (20, 0.11328077502548695), (20, 0.10592120178043843), (20, 0.1133898064494133), (20, 0.11138367876410485), (20, 0.11235155500471591), (20, 0.10776849947869778), (20, 0.11059756875038147), (20, 0.10333462171256542), (20, 0.11148971915245057), (20, 0.10438550189137459), (20, 0.11406764388084412), (20, 0.11473607309162617), (20, 0.11674927175045013)]})]}\n",
      "INFO flwr 2025-02-17 12:09:29,691 | app.py:252 | app_fit: metrics_distributed {}\n",
      "INFO flwr 2025-02-17 12:09:29,691 | app.py:253 | app_fit: losses_centralized [(0, 194.37576389312744), (1, 206.65953731536865)]\n",
      "INFO flwr 2025-02-17 12:09:29,691 | app.py:254 | app_fit: metrics_centralized {'accuracy': [(0, 0.004), (1, 0.006666666666666667)]}\n"
     ]
    }
   ],
   "source": [
    "lda_flower_client_generator: Callable[[str], FlowerClient] = (\n",
    "    get_flower_client_generator(\n",
    "        model_generator=network_generator_cnn,\n",
    "        data_dir=data_dir,\n",
    "        partition_dir=dataset_dir / \"client_data_mappings\" / \"lda-0.1\",\n",
    "    )\n",
    ")\n",
    "\n",
    "params, hist = start_seeded_simulation(\n",
    "    client_fn=lambda cid: lda_flower_client_generator(cid).to_client(),\n",
    "    num_clients=num_total_clients,\n",
    "    config=ServerConfig(num_rounds=1),\n",
    "    strategy=strategy,\n",
    "    name=\"fedavg_lda_example\",\n",
    ")"
   ]
  },
  {
   "cell_type": "code",
   "execution_count": 225,
   "metadata": {},
   "outputs": [
    {
     "name": "stderr",
     "output_type": "stream",
     "text": [
      "INFO flwr 2025-02-17 12:09:29,712 | app.py:149 | Starting Flower simulation, config: ServerConfig(num_rounds=1, round_timeout=None)\n",
      "INFO flwr 2025-02-17 12:09:29,713 | server_returns_parameters.py:81 | Initializing global parameters\n",
      "INFO flwr 2025-02-17 12:09:29,714 | server_returns_parameters.py:277 | Requesting initial parameters from one random client\n",
      "INFO flwr 2025-02-17 12:09:29,714 | client.py:51 | Creating client with cid: 79\n",
      "INFO flwr 2025-02-17 12:09:29,718 | server_returns_parameters.py:281 | Received initial parameters from one random client\n",
      "INFO flwr 2025-02-17 12:09:29,719 | server_returns_parameters.py:84 | Evaluating initial parameters\n",
      "100%|██████████| 47/47 [00:00<00:00, 182.56it/s]\n",
      "INFO flwr 2025-02-17 12:09:29,980 | server_returns_parameters.py:87 | initial parameters (loss, other metrics): 194.37576389312744, {'accuracy': 0.004}\n",
      "INFO flwr 2025-02-17 12:09:29,980 | server_returns_parameters.py:97 | FL starting\n",
      "DEBUG flwr 2025-02-17 12:09:29,981 | server_returns_parameters.py:223 | fit_round 1: strategy sampled 62 clients (out of 100)\n",
      "INFO flwr 2025-02-17 12:09:29,982 | client.py:51 | Creating client with cid: 68\n",
      "INFO flwr 2025-02-17 12:09:29,982 | client.py:51 | Creating client with cid: 90\n",
      "INFO flwr 2025-02-17 12:09:29,983 | client.py:51 | Creating client with cid: 46\n",
      "INFO flwr 2025-02-17 12:09:29,984 | client.py:51 | Creating client with cid: 73\n",
      "INFO flwr 2025-02-17 12:09:29,984 | client.py:51 | Creating client with cid: 74\n",
      "INFO flwr 2025-02-17 12:09:29,986 | client.py:51 | Creating client with cid: 93\n",
      "INFO flwr 2025-02-17 12:09:29,988 | client.py:51 | Creating client with cid: 21\n",
      "INFO flwr 2025-02-17 12:09:29,996 | client.py:51 | Creating client with cid: 42\n",
      "INFO flwr 2025-02-17 12:09:30,010 | client.py:51 | Creating client with cid: 49\n",
      "INFO flwr 2025-02-17 12:09:30,011 | client.py:51 | Creating client with cid: 81\n",
      "INFO flwr 2025-02-17 12:09:30,015 | client.py:51 | Creating client with cid: 97\n",
      "INFO flwr 2025-02-17 12:09:30,016 | client.py:51 | Creating client with cid: 39\n",
      "INFO flwr 2025-02-17 12:09:30,016 | client.py:51 | Creating client with cid: 50\n",
      "INFO flwr 2025-02-17 12:09:30,019 | client.py:51 | Creating client with cid: 26\n",
      "INFO flwr 2025-02-17 12:09:30,021 | client.py:51 | Creating client with cid: 84\n",
      "INFO flwr 2025-02-17 12:09:30,026 | client.py:51 | Creating client with cid: 89\n",
      "INFO flwr 2025-02-17 12:09:30,028 | client.py:51 | Creating client with cid: 13\n",
      "INFO flwr 2025-02-17 12:09:30,030 | client.py:51 | Creating client with cid: 54\n",
      "INFO flwr 2025-02-17 12:09:30,031 | client.py:51 | Creating client with cid: 98\n",
      "INFO flwr 2025-02-17 12:09:30,033 | client.py:51 | Creating client with cid: 51\n",
      "INFO flwr 2025-02-17 12:09:30,036 | client.py:51 | Creating client with cid: 8\n",
      "INFO flwr 2025-02-17 12:09:30,038 | client.py:51 | Creating client with cid: 64\n",
      "INFO flwr 2025-02-17 12:09:30,041 | client.py:51 | Creating client with cid: 44\n",
      "INFO flwr 2025-02-17 12:09:30,043 | client.py:51 | Creating client with cid: 80\n",
      "INFO flwr 2025-02-17 12:09:30,046 | client.py:51 | Creating client with cid: 76\n",
      "INFO flwr 2025-02-17 12:09:30,047 | client.py:51 | Creating client with cid: 88\n",
      "INFO flwr 2025-02-17 12:09:38,148 | client.py:51 | Creating client with cid: 2\n",
      "INFO flwr 2025-02-17 12:09:38,209 | client.py:51 | Creating client with cid: 45\n",
      "INFO flwr 2025-02-17 12:09:38,227 | client.py:51 | Creating client with cid: 15\n",
      "INFO flwr 2025-02-17 12:09:38,258 | client.py:51 | Creating client with cid: 58\n",
      "INFO flwr 2025-02-17 12:09:38,267 | client.py:51 | Creating client with cid: 31\n",
      "INFO flwr 2025-02-17 12:09:38,280 | client.py:51 | Creating client with cid: 94\n",
      "INFO flwr 2025-02-17 12:09:38,290 | client.py:51 | Creating client with cid: 40\n",
      "INFO flwr 2025-02-17 12:09:38,303 | client.py:51 | Creating client with cid: 70\n",
      "INFO flwr 2025-02-17 12:09:38,310 | client.py:51 | Creating client with cid: 33\n",
      "INFO flwr 2025-02-17 12:09:38,352 | client.py:51 | Creating client with cid: 25\n",
      "INFO flwr 2025-02-17 12:09:38,370 | client.py:51 | Creating client with cid: 79\n",
      "INFO flwr 2025-02-17 12:09:38,417 | client.py:51 | Creating client with cid: 67\n",
      "INFO flwr 2025-02-17 12:09:38,439 | client.py:51 | Creating client with cid: 65\n",
      "INFO flwr 2025-02-17 12:09:38,444 | client.py:51 | Creating client with cid: 95\n",
      "INFO flwr 2025-02-17 12:09:38,450 | client.py:51 | Creating client with cid: 36\n",
      "INFO flwr 2025-02-17 12:09:38,453 | client.py:51 | Creating client with cid: 91\n",
      "INFO flwr 2025-02-17 12:09:38,460 | client.py:51 | Creating client with cid: 96\n",
      "INFO flwr 2025-02-17 12:09:38,526 | client.py:51 | Creating client with cid: 4\n",
      "INFO flwr 2025-02-17 12:09:38,533 | client.py:51 | Creating client with cid: 86\n",
      "INFO flwr 2025-02-17 12:09:38,536 | client.py:51 | Creating client with cid: 41\n",
      "INFO flwr 2025-02-17 12:09:38,543 | client.py:51 | Creating client with cid: 60\n",
      "INFO flwr 2025-02-17 12:09:38,547 | client.py:51 | Creating client with cid: 3\n",
      "INFO flwr 2025-02-17 12:09:38,577 | client.py:51 | Creating client with cid: 43\n",
      "INFO flwr 2025-02-17 12:09:38,590 | client.py:51 | Creating client with cid: 1\n",
      "INFO flwr 2025-02-17 12:09:38,653 | client.py:51 | Creating client with cid: 62\n",
      "INFO flwr 2025-02-17 12:09:38,710 | client.py:51 | Creating client with cid: 12\n",
      "INFO flwr 2025-02-17 12:09:45,851 | client.py:51 | Creating client with cid: 48\n",
      "INFO flwr 2025-02-17 12:09:45,884 | client.py:51 | Creating client with cid: 6\n",
      "INFO flwr 2025-02-17 12:09:45,925 | client.py:51 | Creating client with cid: 18\n",
      "INFO flwr 2025-02-17 12:09:45,937 | client.py:51 | Creating client with cid: 47\n",
      "INFO flwr 2025-02-17 12:09:45,939 | client.py:51 | Creating client with cid: 28\n",
      "INFO flwr 2025-02-17 12:09:45,951 | client.py:51 | Creating client with cid: 59\n",
      "INFO flwr 2025-02-17 12:09:45,957 | client.py:51 | Creating client with cid: 20\n",
      "INFO flwr 2025-02-17 12:09:45,969 | client.py:51 | Creating client with cid: 0\n",
      "INFO flwr 2025-02-17 12:09:45,971 | client.py:51 | Creating client with cid: 53\n",
      "INFO flwr 2025-02-17 12:09:46,011 | client.py:51 | Creating client with cid: 99\n",
      "DEBUG flwr 2025-02-17 12:09:49,042 | server_returns_parameters.py:237 | fit_round 1 received 62 results and 0 failures\n",
      "100%|██████████| 47/47 [00:00<00:00, 157.00it/s]\n",
      "INFO flwr 2025-02-17 12:09:49,381 | server_returns_parameters.py:120 | fit progress: (1, 194.1851840019226, {'accuracy': 0.006}, 19.400379263002833)\n",
      "INFO flwr 2025-02-17 12:09:49,381 | server_returns_parameters.py:171 | evaluate_round 1: no clients selected, cancel\n",
      "INFO flwr 2025-02-17 12:09:49,381 | server_returns_parameters.py:150 | FL finished in 19.40107404599985\n",
      "INFO flwr 2025-02-17 12:09:49,382 | app.py:250 | app_fit: losses_distributed []\n",
      "INFO flwr 2025-02-17 12:09:49,382 | app.py:251 | app_fit: metrics_distributed_fit {'train_loss': [(1, {'avg': 0.12903152612909194, 'all': [(20, 0.12916239723563194), (20, 0.12909443825483322), (20, 0.1289965569972992), (20, 0.12897853180766106), (20, 0.1289625808596611), (20, 0.12895728200674056), (20, 0.12919084429740907), (20, 0.12899551317095756), (20, 0.1289989210665226), (20, 0.12904156371951103), (20, 0.12919921427965164), (20, 0.12882962822914124), (20, 0.12886543720960617), (20, 0.12898529171943665), (20, 0.12903062626719475), (20, 0.12886833250522614), (20, 0.12905450612306596), (20, 0.12900858968496323), (20, 0.12895238772034645), (20, 0.12900889217853545), (20, 0.12898367494344712), (20, 0.1289682060480118), (20, 0.1289936386048794), (20, 0.12906482964754104), (20, 0.12908341735601425), (20, 0.12918173149228096), (20, 0.1288756549358368), (20, 0.12878407984972), (20, 0.1289151206612587), (20, 0.1291341133415699), (20, 0.12913880124688148), (20, 0.12911655232310296), (20, 0.12908611446619034), (20, 0.12902826741337775), (20, 0.12902477979660035), (20, 0.12897718027234079), (20, 0.12905145660042763), (20, 0.12913779690861701), (20, 0.12903713583946227), (20, 0.1289641097187996), (20, 0.12912646532058716), (20, 0.12891499996185302), (20, 0.12901088297367097), (20, 0.12917177230119706), (20, 0.12921279966831206), (20, 0.12909165620803834), (20, 0.12892335504293442), (20, 0.1290908508002758), (20, 0.12901635766029357), (20, 0.12905052527785302), (20, 0.12908752113580704), (20, 0.12908407747745515), (20, 0.12903396114706994), (20, 0.12891472280025482), (20, 0.12905960157513618), (20, 0.12905401587486268), (20, 0.12904978469014167), (20, 0.12918280363082885), (20, 0.12901148349046707), (20, 0.1291717529296875), (20, 0.12899338454008102), (20, 0.12897364869713784)]})]}\n",
      "INFO flwr 2025-02-17 12:09:49,382 | app.py:252 | app_fit: metrics_distributed {}\n",
      "INFO flwr 2025-02-17 12:09:49,383 | app.py:253 | app_fit: losses_centralized [(0, 194.37576389312744), (1, 194.1851840019226)]\n",
      "INFO flwr 2025-02-17 12:09:49,383 | app.py:254 | app_fit: metrics_centralized {'accuracy': [(0, 0.004), (1, 0.006)]}\n"
     ]
    }
   ],
   "source": [
    "lda_flower_client_generator: Callable[[str], FlowerClient] = (\n",
    "    get_flower_client_generator(\n",
    "        model_generator=network_generator_cnn,\n",
    "        data_dir=data_dir,\n",
    "        partition_dir=dataset_dir / \"client_data_mappings\" / \"lda-1000.0\",\n",
    "    )\n",
    ")\n",
    "\n",
    "params, hist = start_seeded_simulation(\n",
    "    client_fn=lambda cid: lda_flower_client_generator(cid).to_client(),\n",
    "    num_clients=num_total_clients,\n",
    "    config=ServerConfig(num_rounds=1),\n",
    "    strategy=strategy,\n",
    "    name=\"fedavg_lda_example\",\n",
    ")"
   ]
  },
  {
   "cell_type": "markdown",
   "metadata": {
    "id": "i0_aN4dkcvv8"
   },
   "source": [
    "## 4. FL Strategies tackling heterogeneity\n",
    "---"
   ]
  },
  {
   "cell_type": "markdown",
   "metadata": {
    "id": "9ayxhgBa-8Oi"
   },
   "source": [
    "The challenge of dealing with non-iidness in FL has been discussed extensively since the publication of the first paper about FL. Many approaches have been proposed, but still, the literature doesn't agree on a general approach or a rule of thumb. A natural method is to modify/extend FedAvg or develop another algorithm specifically oriented to mitigating heterogeneity. In some applications, augmenting data to make it more similar between clients is possible. Some works assume a small dataset that is shared between clients to serve as a reference.\n",
    "\n",
    "Every time a new approach has been proposed, many related questions have arisen. It is no longer clear that treating all examples of all the clients equally make sense. Some works proposed limiting the contributions of data from any client in the federation. The notion of fairness has been introduced and defined in many ways in order to set up principles that could result in new approaches, for example emphasizing underperforming clients during aggregation. It is not even clear whether a single global model is the correct objective for FL---works related to this question gave birth to Personalised Federated Learning (PFL), a sub-branch of research.\n",
    "\n",
    "We started to think that we should be able to turn the non-iid problem from a bug into a feature treated similarly to a task in MTL. The number of works that start with this perspective is however limited.\n",
    "\n",
    "Even if FedAvg can partially mitigate heterogeneity, it is not working well in all situations, as we saw previously. From the many new algorithms that were introduced, it is worth mentioning: [FedProx](https://www.researchgate.net/profile/Anit-Sahu/publication/329734586_On_the_Convergence_of_Federated_Optimization_in_Heterogeneous_Networks/links/5c1bdd5e299bf12be38ee52d/On-the-Convergence-of-Federated-Optimization-in-Heterogeneous-Networks.pdf), [q-FedAvg](https://arxiv.org/abs/1905.10497), [SCAFFOLD](http://proceedings.mlr.press/v119/karimireddy20a.html). For a matter of time, we will now explore just one of these algorithms introduced for tackling the non-iid problem specifically. We chose FedProx since it is the simplest to demonstrate.\n"
   ]
  },
  {
   "cell_type": "markdown",
   "metadata": {
    "id": "W3xe9fHHc5Sc"
   },
   "source": [
    "### FedProx\n",
    "---"
   ]
  },
  {
   "cell_type": "markdown",
   "metadata": {
    "id": "xNyYEsRnId3C"
   },
   "source": [
    "The Federated Proximal (FedProx) method was developed in the context of tuning and benchmarking FedAvg in a heterogeneous setting. The authors of FedAvg proposed carefully tuning the learning rate and the number of local epochs to increase the accuracy in such settings but turned out clear that something more was necessary. Based on the client's heterogeneity, local updates change the global model not only in different directions in the loss space but also at different rates. This phenomenon is called client divergence or drifting.\n",
    "\n",
    "Using FedAvg we would like to have a different number of local epochs for each client based on its characteristics. Thus, heuristically setting the number of local updates is not always optimal, because clients are all different from each other. Limiting the number of local updates through a more flexible tool is beneficial. Thus, FedProx proposes to incorporate a term in the local objective function that penalizes big changes from the current model at the server. In each node $k$, instead of minimizing the local loss function $F_k$, the local solver tries to approximately minimize:\n",
    "\n",
    "$\\min_wh_w(w;w^t)=F_k(w)+\\frac{\\mu}{2}||w-w^t||^2$,\n",
    "\n",
    "where $||w-w^t||^2$ is the new proximal term.\n",
    "\n",
    "FedProx acts as FedAvg apart from the change in the local objective. This new objective enforces limited local model updates more explicitly than FedAvg. Using FedProx, it is no longer necessary to tune the number of local epochs for each client to minimize divergence.\n",
    "\n",
    "We will now implement and test FedProx on the natural partition of FEMNIST. Implementing FedProx just involves modifying the local training function of our `FlowerRayClient`. We will then write the new function and build a new `client_generator` function that overwrites the relevant methods of our client.\n"
   ]
  },
  {
   "cell_type": "code",
   "execution_count": 35,
   "metadata": {
    "id": "BoGXFQALRRkR"
   },
   "outputs": [],
   "source": [
    "def train_fedprox_femnist(\n",
    "    net: Module,\n",
    "    train_loader: DataLoader,\n",
    "    epochs: int,\n",
    "    device: str,\n",
    "    optimizer: torch.optim.Optimizer,\n",
    "    criterion: Module,\n",
    "    proximal_mu: float,\n",
    ") -> float:\n",
    "    \"\"\"Train the network on the training set using FedProx.\n",
    "\n",
    "    Parameters\n",
    "    ----------\n",
    "        net (Module): generic module object describing the network to train.\n",
    "        train_loader (DataLoader): dataloader to iterate during the training.\n",
    "        epochs (int): number of epochs of training.\n",
    "        device (str): device name onto which perform the computation.\n",
    "        optimizer (torch.optim.Optimizer): optimizer object.\n",
    "        criterion (Module): generic module describing the loss function.\n",
    "        proximal_mu (float): parameter for the weight of the proximal term.\n",
    "\n",
    "    Returns\n",
    "    -------\n",
    "        float: the final epoch mean train loss.\n",
    "    \"\"\"\n",
    "    global_params: Module = deepcopy(net)\n",
    "    global_params.requires_grad_(False)\n",
    "    global_params_list = [val for _, val in global_params.state_dict().items()]\n",
    "    net.train()\n",
    "    running_loss, total = 0.0, 0\n",
    "    for _ in tqdm(range(epochs)):\n",
    "        running_loss = 0.0\n",
    "        total = 0\n",
    "        for data, labels in train_loader:\n",
    "            data, labels = data.to(device), labels.to(device)\n",
    "            optimizer.zero_grad()\n",
    "            # NOTE: here comes the implementation of FedProx algorithm\n",
    "            proximal_term = 0.0\n",
    "            for local_weights, global_weights in zip(\n",
    "                net.parameters(), global_params_list, strict=True\n",
    "            ):\n",
    "                proximal_term += (local_weights - global_weights).norm(2)\n",
    "            loss = criterion(net(data), labels) + (proximal_mu / 2) * proximal_term\n",
    "            running_loss += loss.item()\n",
    "            total += labels.size(0)\n",
    "            loss.backward()\n",
    "            optimizer.step()\n",
    "    return running_loss / total\n",
    "\n",
    "\n",
    "def _train_fedprox(\n",
    "    self: FlowerClient, net: Module, train_loader: DataLoader, config: dict[str, Scalar]\n",
    ") -> float:\n",
    "    return train_fedprox_femnist(\n",
    "        net=net,\n",
    "        train_loader=train_loader,\n",
    "        epochs=int(config[\"epochs\"]),\n",
    "        device=self.device,\n",
    "        optimizer=torch.optim.AdamW(\n",
    "            net.parameters(),\n",
    "            lr=float(config[\"client_learning_rate\"]),\n",
    "            weight_decay=float(config[\"weight_decay\"]),\n",
    "        ),\n",
    "        criterion=torch.nn.CrossEntropyLoss(),\n",
    "        proximal_mu=float(config[\"proximal_mu\"]),\n",
    "    )\n",
    "\n",
    "\n",
    "def get_fedprox_flower_client_generator(\n",
    "    model_generator: Callable[[], Module],\n",
    "    data_dir: Path,\n",
    "    partition_dir: Path,\n",
    ") -> Callable[[str], FlowerClient]:\n",
    "    \"\"\"Implement a wrapper function for the client instance generator.\n",
    "\n",
    "    This provides the client generator with a model generator function.\n",
    "    Also, the partition directory must be passed.\n",
    "    The clients generated will train using FedProx algorithm.\n",
    "\n",
    "    Parameters\n",
    "    ----------\n",
    "        data_dir (Path): path to the dataset folder.\n",
    "        model_generator (Callable[[], Module]): model generator function.\n",
    "        partition_dir (Path): directory containing the partition.\n",
    "\n",
    "    Returns\n",
    "    -------\n",
    "        Callable[[str], WrappedClient]: client instance.\n",
    "    \"\"\"\n",
    "\n",
    "    def client_fn(cid: str) -> FlowerClient:\n",
    "        \"\"\"Create a single client instance given the client id `cid`.\n",
    "\n",
    "        Parameters\n",
    "        ----------\n",
    "            cid (str): client id, Flower requires this to of type str.\n",
    "\n",
    "        Returns\n",
    "        -------\n",
    "            WrappedClient: client instance.\n",
    "        \"\"\"\n",
    "        log(INFO, f\"Getting client with id {cid}\")\n",
    "        client = FlowerClient(\n",
    "            cid=int(cid),\n",
    "            data_dir=data_dir,\n",
    "            partition_dir=partition_dir,\n",
    "            model_generator=model_generator,\n",
    "        )\n",
    "        # Pay attention to the following line\n",
    "        client._train = MethodType(_train_fedprox, client)\n",
    "        return client\n",
    "\n",
    "    return client_fn"
   ]
  },
  {
   "cell_type": "code",
   "execution_count": 36,
   "metadata": {},
   "outputs": [],
   "source": [
    "torch.manual_seed(Seeds.DEFAULT)\n",
    "N_TOTAL_CLIENTS = 1000\n",
    "CONCENTRATION = 0.1\n",
    "# Create partitions\n",
    "x = np.array([x[0] for x in centralized_train_dataset.data])\n",
    "y = np.array([x[1] for x in centralized_train_dataset.data])\n",
    "train_clients_partitions, dist = create_lda_partitions(\n",
    "    dataset=(x, y),\n",
    "    dirichlet_dist=None,\n",
    "    num_partitions=N_TOTAL_CLIENTS,\n",
    "    concentration=CONCENTRATION,\n",
    "    accept_imbalanced=True,\n",
    "    seed=Seeds.DEFAULT,\n",
    ")\n",
    "x = np.array([x[0] for x in centralized_test_dataset.data])\n",
    "y = np.array([x[1] for x in centralized_test_dataset.data])\n",
    "test_clients_partitions, dist = create_lda_partitions(\n",
    "    dataset=(x, y),\n",
    "    dirichlet_dist=dist,\n",
    "    num_partitions=N_TOTAL_CLIENTS,\n",
    "    concentration=CONCENTRATION,\n",
    "    accept_imbalanced=True,\n",
    ")\n",
    "# Store partitions\n",
    "lda_partition: Path = dataset_dir / \"client_data_mappings\" / f\"lda_{CONCENTRATION}\"\n",
    "if lda_partition.exists():\n",
    "    shutil.rmtree(str(lda_partition))\n",
    "lda_partition.mkdir(parents=True, exist_ok=True)\n",
    "\n",
    "for i, (train_set, test_set) in enumerate(\n",
    "    zip(train_clients_partitions, test_clients_partitions, strict=True)\n",
    "):\n",
    "    folder_path: Path = lda_partition / str(i)\n",
    "    folder_path.mkdir(parents=True, exist_ok=True)\n",
    "\n",
    "    train_path: Path = folder_path / \"train.csv\"\n",
    "    test_path: Path = folder_path / \"test.csv\"\n",
    "\n",
    "    pd.DataFrame({\n",
    "        \"client_id\": [0] * len(train_set[0]),\n",
    "        \"sample_path\": train_set[0],\n",
    "        \"sample_id\": range(len(train_set[0])),\n",
    "        \"label\": train_set[1],\n",
    "    }).to_csv(train_path, index=False)\n",
    "    pd.DataFrame({\n",
    "        \"client_id\": [0] * len(test_set[0]),\n",
    "        \"sample_path\": test_set[0],\n",
    "        \"sample_id\": range(len(test_set[0])),\n",
    "        \"label\": test_set[1],\n",
    "    }).to_csv(test_path, index=False)"
   ]
  },
  {
   "cell_type": "markdown",
   "metadata": {
    "id": "wjiLOOddl6cw"
   },
   "source": [
    "We are now able to train an FL setting using FedProx.\n"
   ]
  },
  {
   "cell_type": "code",
   "execution_count": 37,
   "metadata": {
    "id": "Sbd8Ks4Hl-Uz"
   },
   "outputs": [],
   "source": [
    "# NOTE: we are using here the `get_fedprox_flower_client_generator`\n",
    "federated_fedprox_flower_client_generator: Callable[[str], FlowerClient] = (\n",
    "    get_fedprox_flower_client_generator(\n",
    "        model_generator=network_generator_cnn,\n",
    "        data_dir=data_dir,\n",
    "        partition_dir=lda_partition,\n",
    "    )\n",
    ")\n",
    "N_TOTAL_ROUNDS = 5\n",
    "# Set up experiment configuration\n",
    "train_config: dict[str, Any] = {\n",
    "    \"epochs\": 1,\n",
    "    \"batch_size\": 32,\n",
    "    \"client_learning_rate\": 0.1,\n",
    "    \"weight_decay\": 0.001,\n",
    "    \"num_workers\": 0,\n",
    "    \"max_batches\": None,\n",
    "    \"proximal_mu\": 0.01,\n",
    "}\n",
    "\n",
    "\n",
    "def _on_fit_config_fn(server_round: int) -> dict[str, Scalar]:\n",
    "    train_config.update({\"server_round\": server_round})\n",
    "    return train_config\n",
    "\n",
    "\n",
    "num_total_clients = N_TOTAL_CLIENTS\n",
    "num_clients_per_round: int = 5\n",
    "num_evaluate_clients: int = 0\n",
    "fraction_fit: float = float(num_clients_per_round) / num_total_clients\n",
    "fraction_evaluate: float = float(num_evaluate_clients) / num_total_clients\n",
    "# Set up strategy\n",
    "strategy = FedAvg(\n",
    "    fraction_fit=sys.float_info.min,\n",
    "    fraction_evaluate=sys.float_info.min,\n",
    "    min_fit_clients=num_clients_per_round,\n",
    "    min_evaluate_clients=num_evaluate_clients,\n",
    "    min_available_clients=max(num_clients_per_round, num_evaluate_clients),\n",
    "    on_fit_config_fn=_on_fit_config_fn,\n",
    "    on_evaluate_config_fn=None,\n",
    "    evaluate_fn=federated_evaluation_function,\n",
    "    initial_parameters=initial_parameters,\n",
    "    accept_failures=False,\n",
    "    fit_metrics_aggregation_fn=aggregate_weighted_average,\n",
    "    evaluate_metrics_aggregation_fn=aggregate_weighted_average,\n",
    ")"
   ]
  },
  {
   "cell_type": "code",
   "execution_count": 38,
   "metadata": {
    "id": "7cg576GQBRWS"
   },
   "outputs": [
    {
     "name": "stderr",
     "output_type": "stream",
     "text": [
      "INFO flwr 2025-02-12 12:37:16,232 | app.py:149 | Starting Flower simulation, config: ServerConfig(num_rounds=5, round_timeout=None)\n",
      "INFO flwr 2025-02-12 12:37:16,239 | server_returns_parameters.py:81 | Initializing global parameters\n",
      "INFO flwr 2025-02-12 12:37:16,240 | server_returns_parameters.py:273 | Using initial parameters provided by strategy\n",
      "INFO flwr 2025-02-12 12:37:16,243 | server_returns_parameters.py:84 | Evaluating initial parameters\n",
      "100%|██████████| 47/47 [00:00<00:00, 102.69it/s]\n",
      "INFO flwr 2025-02-12 12:37:16,708 | server_returns_parameters.py:87 | initial parameters (loss, other metrics): 58.9051810503006, {'accuracy': 0.5913333333333334}\n",
      "INFO flwr 2025-02-12 12:37:16,709 | server_returns_parameters.py:97 | FL starting\n",
      "DEBUG flwr 2025-02-12 12:37:16,709 | server_returns_parameters.py:223 | fit_round 1: strategy sampled 5 clients (out of 1000)\n",
      "INFO flwr 2025-02-12 12:37:16,710 | 2358598921.py:102 | Getting client with id 632\n",
      "INFO flwr 2025-02-12 12:37:16,711 | 2358598921.py:102 | Getting client with id 947\n",
      "INFO flwr 2025-02-12 12:37:16,711 | client.py:51 | Creating client with cid: 632\n",
      "INFO flwr 2025-02-12 12:37:16,711 | 2358598921.py:102 | Getting client with id 546\n",
      "INFO flwr 2025-02-12 12:37:16,712 | 2358598921.py:102 | Getting client with id 726\n",
      "INFO flwr 2025-02-12 12:37:16,713 | client.py:51 | Creating client with cid: 947\n",
      "INFO flwr 2025-02-12 12:37:16,713 | 2358598921.py:102 | Getting client with id 374\n",
      "INFO flwr 2025-02-12 12:37:16,716 | client.py:51 | Creating client with cid: 546\n",
      "INFO flwr 2025-02-12 12:37:16,717 | client.py:51 | Creating client with cid: 726\n",
      "INFO flwr 2025-02-12 12:37:16,724 | client.py:51 | Creating client with cid: 374\n",
      "  0%|          | 0/1 [00:00<?, ?it/s]\n",
      "\u001b[A\n",
      "\n",
      "\u001b[A\u001b[A\n",
      "\n",
      "\n",
      "100%|██████████| 1/1 [00:02<00:00,  2.44s/it]\n",
      "\n",
      "100%|██████████| 1/1 [00:02<00:00,  2.49s/it]\n",
      "100%|██████████| 1/1 [00:02<00:00,  2.52s/it]\n",
      "\n",
      "\n",
      "\n",
      "100%|██████████| 1/1 [00:02<00:00,  2.47s/it]\n",
      "\n",
      "\n",
      "100%|██████████| 1/1 [00:02<00:00,  2.50s/it]\n",
      "DEBUG flwr 2025-02-12 12:37:19,365 | server_returns_parameters.py:237 | fit_round 1 received 5 results and 0 failures\n",
      "100%|██████████| 47/47 [00:00<00:00, 123.35it/s]\n",
      "INFO flwr 2025-02-12 12:37:19,761 | server_returns_parameters.py:120 | fit progress: (1, 176.3529953956604, {'accuracy': 0.078}, 3.051622633000079)\n",
      "INFO flwr 2025-02-12 12:37:19,761 | server_returns_parameters.py:171 | evaluate_round 1: no clients selected, cancel\n",
      "DEBUG flwr 2025-02-12 12:37:19,762 | server_returns_parameters.py:223 | fit_round 2: strategy sampled 5 clients (out of 1000)\n",
      "INFO flwr 2025-02-12 12:37:19,763 | 2358598921.py:102 | Getting client with id 584\n",
      "INFO flwr 2025-02-12 12:37:19,764 | client.py:51 | Creating client with cid: 584\n",
      "INFO flwr 2025-02-12 12:37:19,764 | 2358598921.py:102 | Getting client with id 599\n",
      "INFO flwr 2025-02-12 12:37:19,770 | client.py:51 | Creating client with cid: 599\n",
      "INFO flwr 2025-02-12 12:37:19,765 | 2358598921.py:102 | Getting client with id 169\n",
      "INFO flwr 2025-02-12 12:37:19,767 | 2358598921.py:102 | Getting client with id 793\n",
      "INFO flwr 2025-02-12 12:37:19,764 | 2358598921.py:102 | Getting client with id 749\n",
      "INFO flwr 2025-02-12 12:37:19,774 | client.py:51 | Creating client with cid: 169\n",
      "INFO flwr 2025-02-12 12:37:19,777 | client.py:51 | Creating client with cid: 793\n",
      "INFO flwr 2025-02-12 12:37:19,778 | client.py:51 | Creating client with cid: 749\n",
      "  0%|          | 0/1 [00:00<?, ?it/s]\n",
      "\u001b[A\n",
      "\n",
      "\n",
      "\u001b[A\u001b[A\u001b[A\n",
      "\n",
      "100%|██████████| 1/1 [00:02<00:00,  2.31s/it]\n",
      "\n",
      "100%|██████████| 1/1 [00:02<00:00,  2.29s/it]\n",
      "\n",
      "\n",
      "\n",
      "100%|██████████| 1/1 [00:02<00:00,  2.29s/it]\n",
      "100%|██████████| 1/1 [00:02<00:00,  2.33s/it]\n",
      "\n",
      "\n",
      "100%|██████████| 1/1 [00:02<00:00,  2.29s/it]\n",
      "DEBUG flwr 2025-02-12 12:37:22,193 | server_returns_parameters.py:237 | fit_round 2 received 5 results and 0 failures\n",
      "100%|██████████| 47/47 [00:00<00:00, 112.41it/s]\n",
      "INFO flwr 2025-02-12 12:37:22,621 | server_returns_parameters.py:120 | fit progress: (2, 192.08381366729736, {'accuracy': 0.05733333333333333}, 5.9116651429999365)\n",
      "INFO flwr 2025-02-12 12:37:22,622 | server_returns_parameters.py:171 | evaluate_round 2: no clients selected, cancel\n",
      "DEBUG flwr 2025-02-12 12:37:22,623 | server_returns_parameters.py:223 | fit_round 3: strategy sampled 5 clients (out of 1000)\n",
      "INFO flwr 2025-02-12 12:37:22,624 | 2358598921.py:102 | Getting client with id 844\n",
      "INFO flwr 2025-02-12 12:37:22,625 | 2358598921.py:102 | Getting client with id 340\n",
      "INFO flwr 2025-02-12 12:37:22,626 | 2358598921.py:102 | Getting client with id 392\n",
      "INFO flwr 2025-02-12 12:37:22,627 | 2358598921.py:102 | Getting client with id 650\n",
      "INFO flwr 2025-02-12 12:37:22,627 | client.py:51 | Creating client with cid: 844\n",
      "INFO flwr 2025-02-12 12:37:22,629 | client.py:51 | Creating client with cid: 340\n",
      "INFO flwr 2025-02-12 12:37:22,630 | 2358598921.py:102 | Getting client with id 808\n",
      "INFO flwr 2025-02-12 12:37:22,631 | client.py:51 | Creating client with cid: 392\n",
      "INFO flwr 2025-02-12 12:37:22,635 | client.py:51 | Creating client with cid: 650\n",
      "INFO flwr 2025-02-12 12:37:22,647 | client.py:51 | Creating client with cid: 808\n",
      "  0%|          | 0/1 [00:00<?, ?it/s]\n",
      "\u001b[A\n",
      "\n",
      "\u001b[A\u001b[A\n",
      "\n",
      "\n",
      "100%|██████████| 1/1 [00:02<00:00,  2.16s/it]\n",
      "100%|██████████| 1/1 [00:02<00:00,  2.15s/it]\n",
      "\n",
      "100%|██████████| 1/1 [00:02<00:00,  2.17s/it]\n",
      "\n",
      "\n",
      "\n",
      "100%|██████████| 1/1 [00:02<00:00,  2.14s/it]\n",
      "\n",
      "\n",
      "100%|██████████| 1/1 [00:02<00:00,  2.17s/it]\n",
      "DEBUG flwr 2025-02-12 12:37:24,929 | server_returns_parameters.py:237 | fit_round 3 received 5 results and 0 failures\n",
      "100%|██████████| 47/47 [00:00<00:00, 70.46it/s]\n",
      "INFO flwr 2025-02-12 12:37:25,610 | server_returns_parameters.py:120 | fit progress: (3, 191.12380957603455, {'accuracy': 0.07333333333333333}, 8.901169788000061)\n",
      "INFO flwr 2025-02-12 12:37:25,611 | server_returns_parameters.py:171 | evaluate_round 3: no clients selected, cancel\n",
      "DEBUG flwr 2025-02-12 12:37:25,612 | server_returns_parameters.py:223 | fit_round 4: strategy sampled 5 clients (out of 1000)\n",
      "INFO flwr 2025-02-12 12:37:25,613 | 2358598921.py:102 | Getting client with id 368\n",
      "INFO flwr 2025-02-12 12:37:25,613 | 2358598921.py:102 | Getting client with id 943\n",
      "INFO flwr 2025-02-12 12:37:25,614 | 2358598921.py:102 | Getting client with id 315\n",
      "INFO flwr 2025-02-12 12:37:25,615 | client.py:51 | Creating client with cid: 368\n",
      "INFO flwr 2025-02-12 12:37:25,615 | 2358598921.py:102 | Getting client with id 400\n",
      "INFO flwr 2025-02-12 12:37:25,630 | client.py:51 | Creating client with cid: 400\n",
      "INFO flwr 2025-02-12 12:37:25,620 | client.py:51 | Creating client with cid: 943\n",
      "INFO flwr 2025-02-12 12:37:25,623 | client.py:51 | Creating client with cid: 315\n",
      "INFO flwr 2025-02-12 12:37:25,618 | 2358598921.py:102 | Getting client with id 713\n",
      "INFO flwr 2025-02-12 12:37:25,651 | client.py:51 | Creating client with cid: 713\n",
      "  0%|          | 0/1 [00:00<?, ?it/s]\n",
      "\u001b[A\n",
      "\n",
      "\n",
      "\u001b[A\u001b[A\u001b[A\n",
      "\n",
      "100%|██████████| 1/1 [00:02<00:00,  2.32s/it]\n",
      "100%|██████████| 1/1 [00:02<00:00,  2.35s/it]\n",
      "\n",
      "\n",
      "100%|██████████| 1/1 [00:02<00:00,  2.36s/it]\n",
      "\n",
      "\n",
      "\n",
      "100%|██████████| 1/1 [00:02<00:00,  2.38s/it]\n",
      "\n",
      "100%|██████████| 1/1 [00:02<00:00,  2.39s/it]\n",
      "DEBUG flwr 2025-02-12 12:37:28,126 | server_returns_parameters.py:237 | fit_round 4 received 5 results and 0 failures\n",
      "100%|██████████| 47/47 [00:00<00:00, 122.25it/s]\n",
      "INFO flwr 2025-02-12 12:37:28,522 | server_returns_parameters.py:120 | fit progress: (4, 227.18433952331543, {'accuracy': 0.07533333333333334}, 11.812647225000092)\n",
      "INFO flwr 2025-02-12 12:37:28,523 | server_returns_parameters.py:171 | evaluate_round 4: no clients selected, cancel\n",
      "DEBUG flwr 2025-02-12 12:37:28,524 | server_returns_parameters.py:223 | fit_round 5: strategy sampled 5 clients (out of 1000)\n",
      "INFO flwr 2025-02-12 12:37:28,526 | 2358598921.py:102 | Getting client with id 209\n",
      "INFO flwr 2025-02-12 12:37:28,528 | 2358598921.py:102 | Getting client with id 779\n",
      "INFO flwr 2025-02-12 12:37:28,528 | client.py:51 | Creating client with cid: 209\n",
      "INFO flwr 2025-02-12 12:37:28,530 | 2358598921.py:102 | Getting client with id 672\n",
      "INFO flwr 2025-02-12 12:37:28,531 | 2358598921.py:102 | Getting client with id 884\n",
      "INFO flwr 2025-02-12 12:37:28,531 | 2358598921.py:102 | Getting client with id 934\n",
      "INFO flwr 2025-02-12 12:37:28,531 | client.py:51 | Creating client with cid: 779\n",
      "INFO flwr 2025-02-12 12:37:28,537 | client.py:51 | Creating client with cid: 672\n",
      "INFO flwr 2025-02-12 12:37:28,543 | client.py:51 | Creating client with cid: 884\n",
      "INFO flwr 2025-02-12 12:37:28,545 | client.py:51 | Creating client with cid: 934\n",
      "  0%|          | 0/1 [00:00<?, ?it/s]\n",
      "\n",
      "\u001b[A\u001b[A\n",
      "\u001b[A\n",
      "\n",
      "\n",
      "\u001b[A\u001b[A\u001b[A\n",
      "\n",
      "100%|██████████| 1/1 [00:02<00:00,  2.09s/it]\n",
      "\n",
      "100%|██████████| 1/1 [00:02<00:00,  2.09s/it]\n",
      "100%|██████████| 1/1 [00:02<00:00,  2.12s/it]\n",
      "\n",
      "\n",
      "\n",
      "100%|██████████| 1/1 [00:02<00:00,  2.09s/it]\n",
      "100%|██████████| 1/1 [00:02<00:00,  2.11s/it]\n",
      "DEBUG flwr 2025-02-12 12:37:30,774 | server_returns_parameters.py:237 | fit_round 5 received 5 results and 0 failures\n",
      "100%|██████████| 47/47 [00:00<00:00, 66.69it/s]\n",
      "INFO flwr 2025-02-12 12:37:31,494 | server_returns_parameters.py:120 | fit progress: (5, 181.91093063354492, {'accuracy': 0.07333333333333333}, 14.784881649999988)\n",
      "INFO flwr 2025-02-12 12:37:31,495 | server_returns_parameters.py:171 | evaluate_round 5: no clients selected, cancel\n",
      "INFO flwr 2025-02-12 12:37:31,496 | server_returns_parameters.py:150 | FL finished in 14.78709121799966\n",
      "INFO flwr 2025-02-12 12:37:31,497 | app.py:250 | app_fit: losses_distributed []\n",
      "INFO flwr 2025-02-12 12:37:31,498 | app.py:251 | app_fit: metrics_distributed_fit {'train_loss': [(1, {'avg': 0.1199009815370664, 'all': [(20, 0.07336356630548835), (20, 0.07296639028936625), (20, 0.10034291993360966), (20, 0.23646102109923958), (20, 0.11637101005762815)]}), (2, {'avg': 0.05279497532173991, 'all': [(20, 0.05872073695063591), (20, 0.056538344360888004), (20, 0.03816504953429103), (20, 0.03783678133040667), (20, 0.07271396443247795)]}), (3, {'avg': 0.04980068690143526, 'all': [(20, 0.03794921711087227), (20, 0.07701402306556701), (20, 0.05384542439132929), (20, 0.009104308998212218), (20, 0.07109046094119549)]}), (4, {'avg': 0.059223897489719096, 'all': [(20, 0.08586659431457519), (20, 0.08038572557270526), (20, 0.06962790880352258), (20, 0.03167337346822023), (20, 0.028565885289572178)]}), (5, {'avg': 0.07138152278959752, 'all': [(20, 0.09100082702934742), (20, 0.06300291139632463), (20, 0.08388053514063358), (20, 0.07444362565875054), (20, 0.04457971472293139)]})]}\n",
      "INFO flwr 2025-02-12 12:37:31,499 | app.py:252 | app_fit: metrics_distributed {}\n",
      "INFO flwr 2025-02-12 12:37:31,501 | app.py:253 | app_fit: losses_centralized [(0, 58.9051810503006), (1, 176.3529953956604), (2, 192.08381366729736), (3, 191.12380957603455), (4, 227.18433952331543), (5, 181.91093063354492)]\n",
      "INFO flwr 2025-02-12 12:37:31,502 | app.py:254 | app_fit: metrics_centralized {'accuracy': [(0, 0.5913333333333334), (1, 0.078), (2, 0.05733333333333333), (3, 0.07333333333333333), (4, 0.07533333333333334), (5, 0.07333333333333333)]}\n"
     ]
    }
   ],
   "source": [
    "params_list, hist = start_seeded_simulation(\n",
    "    client_fn=lambda cid: federated_fedprox_flower_client_generator(cid).to_client(),\n",
    "    num_clients=N_TOTAL_CLIENTS,\n",
    "    config=ServerConfig(num_rounds=N_TOTAL_ROUNDS),\n",
    "    strategy=strategy,\n",
    "    name=\"fedprox\",\n",
    ")"
   ]
  },
  {
   "cell_type": "markdown",
   "metadata": {},
   "source": [
    "---\n",
    "\n",
    "**Question 5 (Part II ✅):**\n",
    "\n",
    "(You need to provide the answer with **code** and **plots** for this question. A short written argumentation is recommended.)\n",
    "\n",
    "1. Train the FL setting composed of LDA partitions with `concentration=1.0` using FedProx with values of `proximal_mu` in $\\{10.0, 0.1, 1e-5\\}$. Keep `num_clients_per_round=5` and `ServerConfig(num_rounds=10)`. Use the experimental configurations bellow.\n",
    "2. Plot the norm of the pseudo-gradient (average delta between the updated models and models at the start of the round) and the loss (in two plots) for every `proximal_mu`. What do you observe, and how does it compare with your expectations? Briefly discuss the results.\n",
    "\n",
    "---\n"
   ]
  },
  {
   "cell_type": "code",
   "execution_count": 39,
   "metadata": {},
   "outputs": [
    {
     "name": "stderr",
     "output_type": "stream",
     "text": [
      "INFO flwr 2025-02-12 12:37:31,579 | client.py:51 | Creating client with cid: 0\n"
     ]
    }
   ],
   "source": [
    "torch.manual_seed(Seeds.DEFAULT)\n",
    "network_generator_cnn = get_network_generator_cnn()\n",
    "seed_net_cnn = network_generator_cnn()\n",
    "centralized_flower_client_generator: Callable[[str], FlowerClient] = (\n",
    "    get_flower_client_generator(\n",
    "        model_generator=network_generator_cnn,\n",
    "        partition_dir=centralized_partition,\n",
    "        data_dir=data_dir,\n",
    "    )\n",
    ")\n",
    "centralized_flower_client = centralized_flower_client_generator(0)\n",
    "centralized_train_config: dict[str, Any] = {\n",
    "    \"epochs\": 1,\n",
    "    \"batch_size\": 32,\n",
    "    \"client_learning_rate\": 0.01,\n",
    "    \"weight_decay\": 0.001,\n",
    "    \"num_workers\": 0,\n",
    "    \"max_batches\": 1000,\n",
    "}\n",
    "# Train parameters on the centralised dataset\n",
    "trained_params, num_examples, train_metrics = fit_client_seeded(\n",
    "    centralized_flower_client,\n",
    "    params=get_model_parameters(seed_net_cnn),\n",
    "    conf=centralized_train_config,\n",
    ")\n",
    "q5_initial_parameters_pretrained = ndarrays_to_parameters(trained_params)"
   ]
  },
  {
   "cell_type": "code",
   "execution_count": 40,
   "metadata": {},
   "outputs": [],
   "source": [
    "N_TOTAL_CLIENTS = 1000\n",
    "N_TOTAL_ROUNDS = 10\n",
    "N_CLIENTS_PER_ROUND = 5\n",
    "CONCENTRATION = 1.0\n",
    "# Set up experiment configuration\n",
    "train_config: dict[str, Any] = {\n",
    "    \"epochs\": 5,\n",
    "    \"batch_size\": 32,\n",
    "    \"client_learning_rate\": 0.01,\n",
    "    \"weight_decay\": 0.001,\n",
    "    \"num_workers\": 0,\n",
    "    \"max_batches\": None,\n",
    "    # NOTE: This must be adjusted according to the requests\n",
    "    \"proximal_mu\": ...,\n",
    "}\n",
    "\n",
    "\n",
    "def _on_fit_config_fn(server_round: int) -> dict[str, Scalar]:\n",
    "    \"\"\"\n",
    "    Generate the training configuration for a given server round.\n",
    "\n",
    "    This function updates the global training configuration with the current server\n",
    "    round and returns the updated configuration.\n",
    "\n",
    "    Parameters\n",
    "    ----------\n",
    "    server_round : int\n",
    "        The current round of training on the server.\n",
    "\n",
    "    Returns\n",
    "    -------\n",
    "    dict[str, Scalar]\n",
    "        The updated training configuration dictionary.\n",
    "    \"\"\"\n",
    "    train_config.update({\"server_round\": server_round})\n",
    "    return train_config\n",
    "\n",
    "\n",
    "num_total_clients = N_TOTAL_CLIENTS\n",
    "num_clients_per_round: int = N_CLIENTS_PER_ROUND\n",
    "num_evaluate_clients: int = 0\n",
    "fraction_fit: float = float(num_clients_per_round) / num_total_clients\n",
    "fraction_evaluate: float = float(num_evaluate_clients) / num_total_clients\n",
    "# Set up strategy\n",
    "strategy = FedAvg(\n",
    "    fraction_fit=sys.float_info.min,\n",
    "    fraction_evaluate=sys.float_info.min,\n",
    "    min_fit_clients=num_clients_per_round,\n",
    "    min_evaluate_clients=num_evaluate_clients,\n",
    "    min_available_clients=max(num_clients_per_round, num_evaluate_clients),\n",
    "    on_fit_config_fn=_on_fit_config_fn,\n",
    "    on_evaluate_config_fn=None,\n",
    "    evaluate_fn=federated_evaluation_function,\n",
    "    initial_parameters=q5_initial_parameters_pretrained,\n",
    "    accept_failures=False,\n",
    "    fit_metrics_aggregation_fn=aggregate_weighted_average,\n",
    "    evaluate_metrics_aggregation_fn=aggregate_weighted_average,\n",
    ")\n",
    "\n",
    "# Create partitions\n",
    "x = np.array([x[0] for x in centralized_train_dataset.data])\n",
    "y = np.array([x[1] for x in centralized_train_dataset.data])\n",
    "train_clients_partitions, dist = create_lda_partitions(\n",
    "    dataset=(x, y),\n",
    "    dirichlet_dist=None,\n",
    "    num_partitions=N_TOTAL_CLIENTS,\n",
    "    concentration=CONCENTRATION,\n",
    "    accept_imbalanced=True,\n",
    ")\n",
    "x = np.array([x[0] for x in centralized_test_dataset.data])\n",
    "y = np.array([x[1] for x in centralized_test_dataset.data])\n",
    "test_clients_partitions, dist = create_lda_partitions(\n",
    "    dataset=(x, y),\n",
    "    dirichlet_dist=dist,\n",
    "    num_partitions=N_TOTAL_CLIENTS,\n",
    "    concentration=CONCENTRATION,\n",
    "    accept_imbalanced=True,\n",
    ")\n",
    "# Store partitions\n",
    "lda_partition: Path = dataset_dir / \"client_data_mappings\" / f\"lda_{CONCENTRATION}\"\n",
    "if lda_partition.exists():\n",
    "    shutil.rmtree(str(lda_partition))\n",
    "lda_partition.mkdir(parents=True, exist_ok=True)\n",
    "\n",
    "for i, (train_set, test_set) in enumerate(\n",
    "    zip(train_clients_partitions, test_clients_partitions, strict=True)\n",
    "):\n",
    "    folder_path: Path = lda_partition / str(i)\n",
    "    folder_path.mkdir(parents=True, exist_ok=True)\n",
    "\n",
    "    train_path: Path = folder_path / \"train.csv\"\n",
    "    test_path: Path = folder_path / \"test.csv\"\n",
    "\n",
    "    pd.DataFrame({\n",
    "        \"client_id\": [0] * len(train_set[0]),\n",
    "        \"sample_path\": train_set[0],\n",
    "        \"sample_id\": range(len(train_set[0])),\n",
    "        \"label\": train_set[1],\n",
    "    }).to_csv(train_path, index=False)\n",
    "    pd.DataFrame({\n",
    "        \"client_id\": [0] * len(test_set[0]),\n",
    "        \"sample_path\": test_set[0],\n",
    "        \"sample_id\": range(len(test_set[0])),\n",
    "        \"label\": test_set[1],\n",
    "    }).to_csv(test_path, index=False)\n",
    "# Create the client generator\n",
    "fedprox_flower_client_generator: Callable[[str], FlowerClient] = (\n",
    "    get_fedprox_flower_client_generator(\n",
    "        model_generator=network_generator_cnn,\n",
    "        data_dir=data_dir,\n",
    "        partition_dir=lda_partition,\n",
    "    )\n",
    ")"
   ]
  },
  {
   "cell_type": "markdown",
   "metadata": {
    "id": "5K1N62Obm679"
   },
   "source": [
    "---\n",
    "\n",
    "**Question 6 (Part III/MPhil ✅):**\n",
    "\n",
    "(These are meant to be conceptual questions. You should provide written answers for these. **No more than 3 sentences each**. No code is needed)\n",
    "\n",
    "In FL, fairness is generally defined as the variance of the accuracy of the global model on local clients' test sets. If two models have the same average accuracy, the one with the lower variance between clients is the fairer.\n",
    "\n",
    "- In light of this, is it reasonable to say that analysing the fairness of the model across clients, i.e. the distributed accuracy, could be used as a tool to measure the data heterogeneity? Motivate your answer.\n",
    "- Both FedAvg and FedProx are training a single global model, so we will always measure some unfairness. Do you think we could improve fairness by finetuning the global model on the local clients just before evaluating it on their local test set?\n",
    "\n",
    "---"
   ]
  },
  {
   "cell_type": "markdown",
   "metadata": {
    "id": "ICOGgdnJRd1b"
   },
   "source": [
    "(c) 2025 Alexandru-Andrei Iacob, Lorenzo Sani\n"
   ]
  }
 ],
 "metadata": {
  "accelerator": "GPU",
  "colab": {
   "provenance": []
  },
  "gpuClass": "standard",
  "kernelspec": {
   "display_name": ".venv",
   "language": "python",
   "name": "python3"
  },
  "language_info": {
   "codemirror_mode": {
    "name": "ipython",
    "version": 3
   },
   "file_extension": ".py",
   "mimetype": "text/x-python",
   "name": "python",
   "nbconvert_exporter": "python",
   "pygments_lexer": "ipython3",
   "version": "3.10.16"
  }
 },
 "nbformat": 4,
 "nbformat_minor": 0
}
